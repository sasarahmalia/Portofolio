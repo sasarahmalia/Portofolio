{
  "cells": [
    {
      "cell_type": "markdown",
      "metadata": {
        "id": "XALXGTgJHVe6"
      },
      "source": [
        "# **Tugas Besar Algoritma Pemrograman (Kelompok 5)**\n",
        "## **Analisis Perbandingan Pekerja Jarak Jauh dengan Role yang Mereka Tempati**\n",
        "\n",
        "**Nama anggota kelompok :**\n",
        "\n",
        "**1. SASA RAHMA LIA_121450119**\\\n",
        "**2. PUTRI DUROTUL SHOPIA_121450116**\\\n",
        "**3. MUHAMMAD FARHAN_121450044**\\\n",
        "**4. BERLIYANA KESUMA HATI_121450086**\\\n",
        "**5. NADIA FITRI YANI_121450101**"
      ]
    },
    {
      "cell_type": "markdown",
      "metadata": {
        "id": "GHG0g-ffHVfU"
      },
      "source": [
        "## Import library dan dataset"
      ]
    },
    {
      "cell_type": "code",
      "execution_count": null,
      "metadata": {
        "id": "8IaERhDMHVfZ"
      },
      "outputs": [],
      "source": [
        "import pandas as pd\n",
        "import numpy as np\n",
        "import matplotlib.pyplot as plt"
      ]
    },
    {
      "cell_type": "code",
      "execution_count": null,
      "metadata": {
        "id": "xcmvJCuFHVfh",
        "outputId": "7b9e0c80-cc86-4523-e179-21e4b1064430",
        "colab": {
          "base_uri": "https://localhost:8080/",
          "height": 661
        }
      },
      "outputs": [
        {
          "output_type": "execute_result",
          "data": {
            "text/plain": [
              "     Unnamed: 0  Working_Year                 Designation Experience  \\\n",
              "0             1          2020              Data Scientist         MI   \n",
              "1             2          2020  Machine Learning Scientist         SE   \n",
              "2             3          2020           Big Data Engineer         SE   \n",
              "3             4          2020        Product Data Analyst         MI   \n",
              "4             5          2020   Machine Learning Engineer         SE   \n",
              "..          ...           ...                         ...        ...   \n",
              "602         603          2022               Data Engineer         SE   \n",
              "603         604          2022               Data Engineer         SE   \n",
              "604         605          2022                Data Analyst         SE   \n",
              "605         606          2022                Data Analyst         SE   \n",
              "606         607          2022                AI Scientist         MI   \n",
              "\n",
              "    Employment_Status Salary_In_Rupees Employee_Location Company_Location  \\\n",
              "0                  FT     6,352,272.00                DE               DE   \n",
              "1                  FT    20,688,070.00                JP               JP   \n",
              "2                  FT     8,674,985.00                GB               GB   \n",
              "3                  FT     1,591,390.00                HN               HN   \n",
              "4                  FT    11,935,425.00                US               US   \n",
              "..                ...              ...               ...              ...   \n",
              "602                FT    12,253,703.00                US               US   \n",
              "603                FT    10,025,757.00                US               US   \n",
              "604                FT    10,264,466.00                US               US   \n",
              "605                FT    11,935,425.00                US               US   \n",
              "606                FT    15,913,900.00                IN               US   \n",
              "\n",
              "    Company_Size  Remote_Working_Ratio  \n",
              "0              L                     0  \n",
              "1              S                     0  \n",
              "2              M                    50  \n",
              "3              S                     0  \n",
              "4              L                    50  \n",
              "..           ...                   ...  \n",
              "602            M                   100  \n",
              "603            M                   100  \n",
              "604            M                     0  \n",
              "605            M                   100  \n",
              "606            L                   100  \n",
              "\n",
              "[607 rows x 10 columns]"
            ],
            "text/html": [
              "\n",
              "  <div id=\"df-8c0a9d11-e274-439c-86c4-5d040a9d1745\">\n",
              "    <div class=\"colab-df-container\">\n",
              "      <div>\n",
              "<style scoped>\n",
              "    .dataframe tbody tr th:only-of-type {\n",
              "        vertical-align: middle;\n",
              "    }\n",
              "\n",
              "    .dataframe tbody tr th {\n",
              "        vertical-align: top;\n",
              "    }\n",
              "\n",
              "    .dataframe thead th {\n",
              "        text-align: right;\n",
              "    }\n",
              "</style>\n",
              "<table border=\"1\" class=\"dataframe\">\n",
              "  <thead>\n",
              "    <tr style=\"text-align: right;\">\n",
              "      <th></th>\n",
              "      <th>Unnamed: 0</th>\n",
              "      <th>Working_Year</th>\n",
              "      <th>Designation</th>\n",
              "      <th>Experience</th>\n",
              "      <th>Employment_Status</th>\n",
              "      <th>Salary_In_Rupees</th>\n",
              "      <th>Employee_Location</th>\n",
              "      <th>Company_Location</th>\n",
              "      <th>Company_Size</th>\n",
              "      <th>Remote_Working_Ratio</th>\n",
              "    </tr>\n",
              "  </thead>\n",
              "  <tbody>\n",
              "    <tr>\n",
              "      <th>0</th>\n",
              "      <td>1</td>\n",
              "      <td>2020</td>\n",
              "      <td>Data Scientist</td>\n",
              "      <td>MI</td>\n",
              "      <td>FT</td>\n",
              "      <td>6,352,272.00</td>\n",
              "      <td>DE</td>\n",
              "      <td>DE</td>\n",
              "      <td>L</td>\n",
              "      <td>0</td>\n",
              "    </tr>\n",
              "    <tr>\n",
              "      <th>1</th>\n",
              "      <td>2</td>\n",
              "      <td>2020</td>\n",
              "      <td>Machine Learning Scientist</td>\n",
              "      <td>SE</td>\n",
              "      <td>FT</td>\n",
              "      <td>20,688,070.00</td>\n",
              "      <td>JP</td>\n",
              "      <td>JP</td>\n",
              "      <td>S</td>\n",
              "      <td>0</td>\n",
              "    </tr>\n",
              "    <tr>\n",
              "      <th>2</th>\n",
              "      <td>3</td>\n",
              "      <td>2020</td>\n",
              "      <td>Big Data Engineer</td>\n",
              "      <td>SE</td>\n",
              "      <td>FT</td>\n",
              "      <td>8,674,985.00</td>\n",
              "      <td>GB</td>\n",
              "      <td>GB</td>\n",
              "      <td>M</td>\n",
              "      <td>50</td>\n",
              "    </tr>\n",
              "    <tr>\n",
              "      <th>3</th>\n",
              "      <td>4</td>\n",
              "      <td>2020</td>\n",
              "      <td>Product Data Analyst</td>\n",
              "      <td>MI</td>\n",
              "      <td>FT</td>\n",
              "      <td>1,591,390.00</td>\n",
              "      <td>HN</td>\n",
              "      <td>HN</td>\n",
              "      <td>S</td>\n",
              "      <td>0</td>\n",
              "    </tr>\n",
              "    <tr>\n",
              "      <th>4</th>\n",
              "      <td>5</td>\n",
              "      <td>2020</td>\n",
              "      <td>Machine Learning Engineer</td>\n",
              "      <td>SE</td>\n",
              "      <td>FT</td>\n",
              "      <td>11,935,425.00</td>\n",
              "      <td>US</td>\n",
              "      <td>US</td>\n",
              "      <td>L</td>\n",
              "      <td>50</td>\n",
              "    </tr>\n",
              "    <tr>\n",
              "      <th>...</th>\n",
              "      <td>...</td>\n",
              "      <td>...</td>\n",
              "      <td>...</td>\n",
              "      <td>...</td>\n",
              "      <td>...</td>\n",
              "      <td>...</td>\n",
              "      <td>...</td>\n",
              "      <td>...</td>\n",
              "      <td>...</td>\n",
              "      <td>...</td>\n",
              "    </tr>\n",
              "    <tr>\n",
              "      <th>602</th>\n",
              "      <td>603</td>\n",
              "      <td>2022</td>\n",
              "      <td>Data Engineer</td>\n",
              "      <td>SE</td>\n",
              "      <td>FT</td>\n",
              "      <td>12,253,703.00</td>\n",
              "      <td>US</td>\n",
              "      <td>US</td>\n",
              "      <td>M</td>\n",
              "      <td>100</td>\n",
              "    </tr>\n",
              "    <tr>\n",
              "      <th>603</th>\n",
              "      <td>604</td>\n",
              "      <td>2022</td>\n",
              "      <td>Data Engineer</td>\n",
              "      <td>SE</td>\n",
              "      <td>FT</td>\n",
              "      <td>10,025,757.00</td>\n",
              "      <td>US</td>\n",
              "      <td>US</td>\n",
              "      <td>M</td>\n",
              "      <td>100</td>\n",
              "    </tr>\n",
              "    <tr>\n",
              "      <th>604</th>\n",
              "      <td>605</td>\n",
              "      <td>2022</td>\n",
              "      <td>Data Analyst</td>\n",
              "      <td>SE</td>\n",
              "      <td>FT</td>\n",
              "      <td>10,264,466.00</td>\n",
              "      <td>US</td>\n",
              "      <td>US</td>\n",
              "      <td>M</td>\n",
              "      <td>0</td>\n",
              "    </tr>\n",
              "    <tr>\n",
              "      <th>605</th>\n",
              "      <td>606</td>\n",
              "      <td>2022</td>\n",
              "      <td>Data Analyst</td>\n",
              "      <td>SE</td>\n",
              "      <td>FT</td>\n",
              "      <td>11,935,425.00</td>\n",
              "      <td>US</td>\n",
              "      <td>US</td>\n",
              "      <td>M</td>\n",
              "      <td>100</td>\n",
              "    </tr>\n",
              "    <tr>\n",
              "      <th>606</th>\n",
              "      <td>607</td>\n",
              "      <td>2022</td>\n",
              "      <td>AI Scientist</td>\n",
              "      <td>MI</td>\n",
              "      <td>FT</td>\n",
              "      <td>15,913,900.00</td>\n",
              "      <td>IN</td>\n",
              "      <td>US</td>\n",
              "      <td>L</td>\n",
              "      <td>100</td>\n",
              "    </tr>\n",
              "  </tbody>\n",
              "</table>\n",
              "<p>607 rows × 10 columns</p>\n",
              "</div>\n",
              "      <button class=\"colab-df-convert\" onclick=\"convertToInteractive('df-8c0a9d11-e274-439c-86c4-5d040a9d1745')\"\n",
              "              title=\"Convert this dataframe to an interactive table.\"\n",
              "              style=\"display:none;\">\n",
              "        \n",
              "  <svg xmlns=\"http://www.w3.org/2000/svg\" height=\"24px\"viewBox=\"0 0 24 24\"\n",
              "       width=\"24px\">\n",
              "    <path d=\"M0 0h24v24H0V0z\" fill=\"none\"/>\n",
              "    <path d=\"M18.56 5.44l.94 2.06.94-2.06 2.06-.94-2.06-.94-.94-2.06-.94 2.06-2.06.94zm-11 1L8.5 8.5l.94-2.06 2.06-.94-2.06-.94L8.5 2.5l-.94 2.06-2.06.94zm10 10l.94 2.06.94-2.06 2.06-.94-2.06-.94-.94-2.06-.94 2.06-2.06.94z\"/><path d=\"M17.41 7.96l-1.37-1.37c-.4-.4-.92-.59-1.43-.59-.52 0-1.04.2-1.43.59L10.3 9.45l-7.72 7.72c-.78.78-.78 2.05 0 2.83L4 21.41c.39.39.9.59 1.41.59.51 0 1.02-.2 1.41-.59l7.78-7.78 2.81-2.81c.8-.78.8-2.07 0-2.86zM5.41 20L4 18.59l7.72-7.72 1.47 1.35L5.41 20z\"/>\n",
              "  </svg>\n",
              "      </button>\n",
              "      \n",
              "  <style>\n",
              "    .colab-df-container {\n",
              "      display:flex;\n",
              "      flex-wrap:wrap;\n",
              "      gap: 12px;\n",
              "    }\n",
              "\n",
              "    .colab-df-convert {\n",
              "      background-color: #E8F0FE;\n",
              "      border: none;\n",
              "      border-radius: 50%;\n",
              "      cursor: pointer;\n",
              "      display: none;\n",
              "      fill: #1967D2;\n",
              "      height: 32px;\n",
              "      padding: 0 0 0 0;\n",
              "      width: 32px;\n",
              "    }\n",
              "\n",
              "    .colab-df-convert:hover {\n",
              "      background-color: #E2EBFA;\n",
              "      box-shadow: 0px 1px 2px rgba(60, 64, 67, 0.3), 0px 1px 3px 1px rgba(60, 64, 67, 0.15);\n",
              "      fill: #174EA6;\n",
              "    }\n",
              "\n",
              "    [theme=dark] .colab-df-convert {\n",
              "      background-color: #3B4455;\n",
              "      fill: #D2E3FC;\n",
              "    }\n",
              "\n",
              "    [theme=dark] .colab-df-convert:hover {\n",
              "      background-color: #434B5C;\n",
              "      box-shadow: 0px 1px 3px 1px rgba(0, 0, 0, 0.15);\n",
              "      filter: drop-shadow(0px 1px 2px rgba(0, 0, 0, 0.3));\n",
              "      fill: #FFFFFF;\n",
              "    }\n",
              "  </style>\n",
              "\n",
              "      <script>\n",
              "        const buttonEl =\n",
              "          document.querySelector('#df-8c0a9d11-e274-439c-86c4-5d040a9d1745 button.colab-df-convert');\n",
              "        buttonEl.style.display =\n",
              "          google.colab.kernel.accessAllowed ? 'block' : 'none';\n",
              "\n",
              "        async function convertToInteractive(key) {\n",
              "          const element = document.querySelector('#df-8c0a9d11-e274-439c-86c4-5d040a9d1745');\n",
              "          const dataTable =\n",
              "            await google.colab.kernel.invokeFunction('convertToInteractive',\n",
              "                                                     [key], {});\n",
              "          if (!dataTable) return;\n",
              "\n",
              "          const docLinkHtml = 'Like what you see? Visit the ' +\n",
              "            '<a target=\"_blank\" href=https://colab.research.google.com/notebooks/data_table.ipynb>data table notebook</a>'\n",
              "            + ' to learn more about interactive tables.';\n",
              "          element.innerHTML = '';\n",
              "          dataTable['output_type'] = 'display_data';\n",
              "          await google.colab.output.renderOutput(dataTable, element);\n",
              "          const docLink = document.createElement('div');\n",
              "          docLink.innerHTML = docLinkHtml;\n",
              "          element.appendChild(docLink);\n",
              "        }\n",
              "      </script>\n",
              "    </div>\n",
              "  </div>\n",
              "  "
            ]
          },
          "metadata": {},
          "execution_count": 10
        }
      ],
      "source": [
        "df = pd.read_csv(\"/content/Data_Science_Fields_Salary_Categorization.csv\")\n",
        "df"
      ]
    },
    {
      "cell_type": "markdown",
      "metadata": {
        "id": "RzOprn2OHVfq"
      },
      "source": [
        "## Tipe data dalam setiap kolom"
      ]
    },
    {
      "cell_type": "code",
      "execution_count": null,
      "metadata": {
        "id": "mqZbl76_HVfv",
        "colab": {
          "base_uri": "https://localhost:8080/"
        },
        "outputId": "7ef807fe-670f-4475-ce25-303ae31626c9"
      },
      "outputs": [
        {
          "output_type": "stream",
          "name": "stdout",
          "text": [
            "<class 'pandas.core.frame.DataFrame'>\n",
            "RangeIndex: 607 entries, 0 to 606\n",
            "Data columns (total 10 columns):\n",
            " #   Column                Non-Null Count  Dtype \n",
            "---  ------                --------------  ----- \n",
            " 0   Unnamed: 0            607 non-null    int64 \n",
            " 1   Working_Year          607 non-null    int64 \n",
            " 2   Designation           607 non-null    object\n",
            " 3   Experience            607 non-null    object\n",
            " 4   Employment_Status     607 non-null    object\n",
            " 5   Salary_In_Rupees      607 non-null    object\n",
            " 6   Employee_Location     607 non-null    object\n",
            " 7   Company_Location      607 non-null    object\n",
            " 8   Company_Size          607 non-null    object\n",
            " 9   Remote_Working_Ratio  607 non-null    int64 \n",
            "dtypes: int64(3), object(7)\n",
            "memory usage: 47.5+ KB\n"
          ]
        }
      ],
      "source": [
        "df.info()"
      ]
    },
    {
      "cell_type": "markdown",
      "metadata": {
        "id": "HNNQOU9mHVf3"
      },
      "source": [
        "## Cek bilangan null dalam dataset"
      ]
    },
    {
      "cell_type": "code",
      "execution_count": null,
      "metadata": {
        "id": "8QIthMubHVf6",
        "colab": {
          "base_uri": "https://localhost:8080/"
        },
        "outputId": "8ea88abf-cf8b-42fe-d905-9fc266365db1"
      },
      "outputs": [
        {
          "output_type": "execute_result",
          "data": {
            "text/plain": [
              "Unnamed: 0              0\n",
              "Working_Year            0\n",
              "Designation             0\n",
              "Experience              0\n",
              "Employment_Status       0\n",
              "Salary_In_Rupees        0\n",
              "Employee_Location       0\n",
              "Company_Location        0\n",
              "Company_Size            0\n",
              "Remote_Working_Ratio    0\n",
              "dtype: int64"
            ]
          },
          "metadata": {},
          "execution_count": 12
        }
      ],
      "source": [
        "df.isna().sum()  #isna ngecekk data klom yang kosong"
      ]
    },
    {
      "cell_type": "markdown",
      "metadata": {
        "id": "Bp1ACsowHVgF"
      },
      "source": [
        "## Membuat numpy array"
      ]
    },
    {
      "cell_type": "code",
      "execution_count": null,
      "metadata": {
        "id": "QdsXr9ExHVgI",
        "colab": {
          "base_uri": "https://localhost:8080/"
        },
        "outputId": "82a4ef00-bb16-4540-9570-95326fff3b77"
      },
      "outputs": [
        {
          "output_type": "stream",
          "name": "stdout",
          "text": [
            "[['Data Scientist' 'Machine Learning Scientist' 'Big Data Engineer'\n",
            "  'Product Data Analyst' 'Machine Learning Engineer' 'Data Analyst'\n",
            "  'Lead Data Scientist' 'Data Scientist' 'Business Data Analyst'\n",
            "  'Lead Data Engineer' 'Data Scientist' 'Data Scientist' 'Data Scientist'\n",
            "  'Lead Data Analyst' 'Data Analyst' 'Data Analyst' 'Data Engineer'\n",
            "  'Big Data Engineer' 'Data Science Consultant' 'Lead Data Engineer'\n",
            "  'Machine Learning Engineer' 'Product Data Analyst' 'Data Engineer'\n",
            "  'BI Data Analyst' 'Lead Data Scientist' 'Director of Data Science'\n",
            "  'Research Scientist' 'Data Engineer' 'Business Data Analyst'\n",
            "  'Machine Learning Manager' 'Data Engineering Manager'\n",
            "  'Big Data Engineer' 'Data Scientist' 'Research Scientist'\n",
            "  'Data Analyst' 'Data Engineer' 'Data Science Consultant'\n",
            "  'Machine Learning Engineer' 'Data Analyst' 'Machine Learning Engineer'\n",
            "  'Data Scientist' 'Data Engineering Manager'\n",
            "  'Machine Learning Infrastructure Engineer' 'Data Engineer'\n",
            "  'Data Engineer' 'ML Engineer' 'Data Scientist' 'Data Engineer'\n",
            "  'Data Scientist' 'Data Engineer' 'Data Analyst' 'Data Analyst'\n",
            "  'AI Scientist' 'Data Engineer' 'Computer Vision Engineer'\n",
            "  'Principal Data Scientist' 'Data Scientist' 'Data Scientist'\n",
            "  'Data Scientist' 'Data Scientist' 'Data Engineer' 'Data Engineer'\n",
            "  'Data Scientist' 'Data Scientist' 'Machine Learning Engineer'\n",
            "  'Data Scientist' 'Data Scientist' 'Data Science Manager'\n",
            "  'Data Scientist' 'Data Scientist' 'Data Scientist' 'Data Scientist'\n",
            "  'Research Scientist' 'BI Data Analyst' 'Head of Data' 'Data Scientist'\n",
            "  'BI Data Analyst' '3D Computer Vision Researcher' 'ML Engineer'\n",
            "  'Data Analyst' 'Data Analytics Engineer' 'Data Engineer'\n",
            "  'Applied Data Scientist' 'Machine Learning Engineer'\n",
            "  'Director of Data Science' 'Data Engineer' 'Data Analyst'\n",
            "  'Data Analytics Engineer' 'Lead Data Analyst' 'Data Analyst'\n",
            "  'Marketing Data Analyst' 'Data Science Consultant' 'Lead Data Analyst'\n",
            "  'Lead Data Engineer' 'Data Scientist' 'Cloud Data Engineer'\n",
            "  'AI Scientist' 'Financial Data Analyst'\n",
            "  'Computer Vision Software Engineer' 'Computer Vision Software Engineer'\n",
            "  'Data Analyst' 'Data Engineer' 'BI Data Analyst' 'Data Analyst'\n",
            "  'Data Scientist' 'Data Analyst' 'Research Scientist' 'Data Engineer'\n",
            "  'Data Engineer' 'Data Engineer' 'Machine Learning Engineer'\n",
            "  'Director of Data Engineering' 'Lead Data Engineer' 'AI Scientist'\n",
            "  'Data Engineer' 'Machine Learning Scientist' 'Data Scientist'\n",
            "  'Data Science Engineer' 'Data Analyst' 'Data Engineer'\n",
            "  'Big Data Engineer' 'Principal Data Engineer' 'Data Analyst'\n",
            "  'Applied Data Scientist' 'Data Analyst' 'Principal Data Scientist'\n",
            "  'Machine Learning Scientist' 'Data Scientist'\n",
            "  'Machine Learning Engineer' 'Lead Data Scientist'\n",
            "  'Machine Learning Developer' 'Data Scientist'\n",
            "  'Applied Machine Learning Scientist' 'Computer Vision Engineer'\n",
            "  'Data Scientist' 'Data Analyst' 'ML Engineer' 'ML Engineer'\n",
            "  'Principal Data Scientist' 'Data Scientist' 'Data Analyst'\n",
            "  'Data Science Manager' 'Data Engineering Manager' 'Data Scientist'\n",
            "  'Data Engineer' 'Machine Learning Engineer' 'Research Scientist'\n",
            "  'Data Engineer' 'Data Engineering Manager' 'Cloud Data Engineer'\n",
            "  'Director of Data Science' 'Data Scientist' 'Data Scientist'\n",
            "  'Data Scientist' 'Data Science Manager' 'Data Science Engineer'\n",
            "  'Data Scientist' 'Applied Machine Learning Scientist'\n",
            "  'Data Analytics Manager' 'Machine Learning Engineer' 'Head of Data'\n",
            "  'Head of Data Science' 'Data Engineer' 'Data Science Consultant'\n",
            "  'Director of Data Science' 'Data Specialist' 'Data Engineer'\n",
            "  'Director of Data Science' 'BI Data Analyst' 'Data Architect'\n",
            "  'Data Architect' 'Data Engineer' 'Data Analyst'\n",
            "  'Principal Data Scientist' 'Research Scientist'\n",
            "  'Data Engineering Manager' 'Data Scientist' 'Data Scientist'\n",
            "  'Machine Learning Engineer' 'Data Scientist' 'Big Data Engineer'\n",
            "  'Data Scientist' 'Data Engineer' 'Finance Data Analyst'\n",
            "  'Machine Learning Scientist' 'Data Engineer' 'Data Analytics Engineer'\n",
            "  'Data Science Consultant' 'Data Engineer' 'Machine Learning Engineer'\n",
            "  'Data Science Manager' 'Machine Learning Engineer' 'Big Data Engineer'\n",
            "  'Data Science Manager' 'Research Scientist' 'Data Scientist'\n",
            "  'BI Data Analyst' 'Machine Learning Engineer' 'Data Science Manager'\n",
            "  'Data Science Consultant' 'Data Scientist'\n",
            "  'Machine Learning Infrastructure Engineer' 'Data Scientist'\n",
            "  'Research Scientist' 'Data Scientist' 'Data Scientist'\n",
            "  'Machine Learning Engineer' 'Data Engineer' 'Data Engineer'\n",
            "  'Data Analytics Manager' 'Machine Learning Engineer'\n",
            "  'Research Scientist' 'Data Engineer' 'Big Data Engineer'\n",
            "  'Machine Learning Engineer' 'Principal Data Engineer'\n",
            "  'Computer Vision Engineer' 'Data Scientist' 'Machine Learning Engineer'\n",
            "  'Data Analytics Manager' 'Machine Learning Engineer' 'Data Scientist'\n",
            "  'Data Scientist' 'Data Scientist' 'Machine Learning Scientist'\n",
            "  'Principal Data Scientist' 'Data Scientist' 'Data Scientist'\n",
            "  'Data Scientist' 'Data Analyst' 'Big Data Engineer' 'ML Engineer'\n",
            "  'Director of Data Engineering' 'Data Analyst' 'Data Architect'\n",
            "  'Head of Data Science' 'Research Scientist' 'Data Scientist'\n",
            "  'Data Scientist' 'Data Engineer' 'Data Scientist' 'Data Analyst'\n",
            "  'Data Engineer' 'Data Scientist' 'AI Scientist' 'Data Engineer'\n",
            "  'Data Scientist' 'Data Engineer' 'Data Engineer'\n",
            "  'Principal Data Analyst' 'Data Scientist' 'Data Scientist'\n",
            "  'Principal Data Engineer' 'Data Scientist' 'Data Analyst'\n",
            "  'Big Data Architect' 'Data Engineer' 'Principal Data Scientist'\n",
            "  'Machine Learning Engineer' 'Director of Data Science' 'Data Scientist'\n",
            "  'Data Analyst' 'Data Scientist' 'Machine Learning Engineer'\n",
            "  'Data Scientist' 'Lead Data Engineer' 'Data Engineer' 'Data Engineer'\n",
            "  'Data Engineer' 'Data Engineer' 'Data Engineer'\n",
            "  'Computer Vision Engineer' 'Data Science Consultant'\n",
            "  'Machine Learning Engineer' 'Data Scientist' 'Data Scientist'\n",
            "  'Data Scientist' 'AI Scientist' 'Data Scientist'\n",
            "  'Business Data Analyst' 'Data Engineer' 'Research Scientist'\n",
            "  'Data Engineer' 'Staff Data Scientist' 'Research Scientist'\n",
            "  'Data Science Manager' 'Head of Data' 'Data Scientist'\n",
            "  'Machine Learning Engineer' 'Data Engineer' 'Data Analyst'\n",
            "  'Data Analyst' 'Data Scientist' 'Data Scientist' 'Data Engineer'\n",
            "  'Data Engineer' 'Data Analyst' 'Data Analyst' 'Data Scientist'\n",
            "  'Data Scientist' 'Data Scientist' 'Data Scientist' 'Data Scientist'\n",
            "  'Data Scientist' 'Data Engineer' 'Data Analyst' 'Data Analyst'\n",
            "  'Data Analyst' 'Data Analyst' 'Data Engineer' 'Data Engineer'\n",
            "  'Data Scientist' 'Data Scientist' 'Data Engineer' 'Data Engineer'\n",
            "  'Data Scientist' 'Data Engineer' 'Data Scientist' 'Data Analyst'\n",
            "  'Data Engineer' 'Data Engineer' 'Data Engineer' 'Data Engineer'\n",
            "  'Data Scientist' 'Data Scientist' 'Data Analyst' 'Data Analyst'\n",
            "  'Data Analyst' 'Data Analyst' 'Data Analyst' 'Data Analyst'\n",
            "  'Data Analyst' 'Data Analyst' 'Data Analyst' 'Data Engineer'\n",
            "  'Data Engineer' 'Data Analyst' 'Data Engineer' 'Data Analyst'\n",
            "  'Data Analyst' 'Data Engineer' 'Data Engineer' 'Head of Data Science'\n",
            "  'Head of Data Science' 'Analytics Engineer' 'Data Engineer'\n",
            "  'Data Engineer' 'Data Scientist' 'Data Engineer' 'Data Analyst'\n",
            "  'Data Science Manager' 'Data Science Manager' 'Data Scientist'\n",
            "  'Data Scientist' 'Data Engineer' 'Data Engineer' 'Data Scientist'\n",
            "  'Data Scientist' 'Data Architect' 'Data Architect' 'Data Analyst'\n",
            "  'Data Analyst' 'Data Analyst' 'Data Analyst' 'Data Engineer'\n",
            "  'Data Scientist' 'Data Engineer' 'Data Analyst' 'Analytics Engineer'\n",
            "  'Data Scientist' 'Data Scientist' 'Machine Learning Engineer'\n",
            "  'Machine Learning Engineer' 'ETL Developer' 'ETL Developer'\n",
            "  'Lead Data Engineer' 'Data Analyst' 'Data Engineer' 'Data Architect'\n",
            "  'Data Architect' 'Data Engineer' 'Data Engineer' 'Data Analyst'\n",
            "  'Data Analyst' 'Head of Machine Learning' 'Data Engineer'\n",
            "  'Machine Learning Engineer' 'Data Analyst' 'Data Engineer'\n",
            "  'Machine Learning Engineer' 'Machine Learning Engineer' 'AI Scientist'\n",
            "  'Data Analyst' 'Data Analyst' 'Data Analytics Manager'\n",
            "  'Data Analytics Manager' 'Machine Learning Engineer' 'Data Engineer'\n",
            "  'Data Scientist' 'Data Scientist' 'Data Engineer' 'Data Engineer'\n",
            "  'Data Analyst' 'Data Analyst' 'Data Engineer' 'Data Engineer'\n",
            "  'Data Analyst' 'Data Engineer' 'Data Analyst' 'Data Scientist'\n",
            "  'Data Scientist' 'Data Scientist' 'Data Engineer' 'Data Engineer'\n",
            "  'Data Engineer' 'Data Engineer' 'Data Scientist'\n",
            "  'Data Science Engineer' 'Data Engineer' 'Machine Learning Scientist'\n",
            "  'Machine Learning Scientist' 'Data Science Manager'\n",
            "  'Data Science Manager' 'Data Scientist' 'Data Scientist'\n",
            "  'Data Engineer' 'Data Engineer' 'Data Engineer' 'Data Scientist'\n",
            "  'Data Analyst' 'Data Analyst' 'Data Analyst' 'Data Engineer'\n",
            "  'Data Engineer' 'Data Engineer' 'Data Engineer' 'Data Engineer'\n",
            "  'Data Engineer' 'Machine Learning Engineer' 'Machine Learning Engineer'\n",
            "  'Data Analyst' 'Data Analyst' 'Data Engineer' 'Data Engineer'\n",
            "  'Data Scientist' 'Data Engineer' 'Data Engineer' 'Data Engineer'\n",
            "  'Data Engineer' 'ML Engineer' 'Data Engineer'\n",
            "  'Machine Learning Developer' 'Director of Data Science'\n",
            "  'Machine Learning Engineer' 'Computer Vision Engineer' 'NLP Engineer'\n",
            "  'Data Engineer' 'Lead Machine Learning Engineer'\n",
            "  'Business Data Analyst' 'Data Scientist'\n",
            "  'Machine Learning Infrastructure Engineer' 'Financial Data Analyst'\n",
            "  'Data Engineer' 'Data Scientist' 'Principal Data Scientist'\n",
            "  'Data Engineer' 'Research Scientist' 'Data Scientist' 'Data Engineer'\n",
            "  'Data Scientist' 'Data Analyst' 'Data Analyst' 'Data Scientist'\n",
            "  'Data Scientist' 'Data Scientist' 'Data Scientist' 'Data Scientist'\n",
            "  'Machine Learning Engineer' 'Data Scientist' 'Data Scientist'\n",
            "  'Machine Learning Engineer' 'Machine Learning Engineer' 'Data Engineer'\n",
            "  'Data Engineer' 'Data Engineer' 'Machine Learning Engineer'\n",
            "  'Data Scientist' 'Data Scientist' 'Data Scientist'\n",
            "  'Applied Machine Learning Scientist' 'Head of Data'\n",
            "  'Principal Data Analyst' 'Data Scientist' 'Machine Learning Developer'\n",
            "  'Data Scientist' 'Machine Learning Scientist' 'Data Engineer'\n",
            "  'Data Scientist' 'Research Scientist' 'Data Scientist'\n",
            "  'Machine Learning Engineer' 'Head of Data' 'Data Scientist'\n",
            "  'Machine Learning Engineer' 'Data Engineer' 'Data Scientist'\n",
            "  'Applied Machine Learning Scientist' 'Research Scientist'\n",
            "  'Research Scientist' 'Applied Data Scientist'\n",
            "  'Computer Vision Software Engineer' 'Business Data Analyst'\n",
            "  'Data Engineer' 'Machine Learning Engineer' 'Data Analytics Engineer'\n",
            "  'Data Scientist' 'Data Science Manager' 'Data Engineer'\n",
            "  'Data Scientist' 'Applied Data Scientist' 'Data Scientist'\n",
            "  'Computer Vision Engineer' 'Data Analyst' 'Data Analytics Lead'\n",
            "  'Data Scientist' 'Applied Data Scientist' 'Data Scientist'\n",
            "  'Data Analyst' 'Data Analyst' 'Data Analyst' 'Data Analyst'\n",
            "  'Data Analyst' 'Machine Learning Engineer' 'Machine Learning Engineer'\n",
            "  'Data Architect' 'Data Architect' 'Data Analyst' 'Data Engineer'\n",
            "  'Data Scientist' 'Data Scientist' 'Data Analyst' 'Data Analyst'\n",
            "  'Data Engineer' 'Data Engineer' 'Data Engineer' 'Data Engineer'\n",
            "  'Data Engineer' 'Data Engineer' 'Data Analyst' 'Data Engineer'\n",
            "  'Data Scientist' 'Data Scientist' 'Data Scientist' 'Data Scientist'\n",
            "  'Data Engineer' 'Data Engineer' 'Data Engineer' 'Data Engineer'\n",
            "  'Data Scientist' 'Data Scientist' 'Analytics Engineer'\n",
            "  'Analytics Engineer' 'Data Engineer' 'Data Engineer' 'Data Analyst'\n",
            "  'Data Engineer' 'Data Analyst' 'Data Analyst' 'Data Analyst'\n",
            "  'Data Scientist' 'Data Scientist' 'Data Scientist' 'Data Analyst'\n",
            "  'Data Analyst' 'Data Scientist' 'Data Scientist' 'Data Scientist'\n",
            "  'Data Analyst' 'Data Engineer' 'Data Engineer' 'Data Analyst'\n",
            "  'Data Analyst' 'Data Engineer' 'Data Engineer' 'Data Analyst'\n",
            "  'Data Analyst' 'Data Analyst' 'Data Scientist' 'Data Analyst'\n",
            "  'Data Analyst' 'Data Architect' 'Data Architect' 'Data Scientist'\n",
            "  'Data Scientist' 'Data Analytics Manager' 'Data Analytics Manager'\n",
            "  'Data Scientist' 'Data Analyst' 'Data Scientist' 'Data Scientist'\n",
            "  'Data Analyst' 'Data Analyst' 'Data Engineer' 'Data Engineer'\n",
            "  'Data Analyst' 'Data Analyst' 'AI Scientist']]\n",
            "[[  0   0  50   0  50 100 100  50 100  50   0   0   0 100 100  50 100 100\n",
            "   50 100   0 100  50   0   0 100  50   0 100  50 100 100 100   0  50  50\n",
            "  100  50 100 100 100  50   0 100  50 100 100 100 100  50   0 100  50 100\n",
            "  100 100 100 100  50 100 100 100  50 100 100  50   0 100 100   0  50  50\n",
            "   50 100 100  50 100  50 100 100 100 100  50 100 100 100  50 100 100 100\n",
            "  100 100 100   0  50  50 100 100 100 100   0 100  50   0   0  50 100 100\n",
            "  100 100  50 100 100 100 100 100 100 100 100 100  50 100 100   0  50 100\n",
            "   50   0 100  50  50  50 100 100   0 100  50  50   0 100 100   0   0 100\n",
            "  100  50  50 100 100 100   0 100 100 100 100  50 100  50 100 100  50   0\n",
            "   50  50  50 100 100   0  50 100 100 100 100 100  50 100   0 100  50 100\n",
            "    0  50   0  50  50 100 100 100  50  50 100  50   0 100  50  50 100 100\n",
            "   50 100  50 100 100 100 100   0 100   0   0   0  50  50  50   0  50 100\n",
            "   50  50 100 100 100  50   0  50 100 100 100  50   0 100 100 100 100 100\n",
            "  100   0 100 100   0  50 100 100 100 100 100  50  50   0  50 100  50 100\n",
            "  100 100 100  50 100 100  50   0  50  50 100   0 100  50   0   0 100  50\n",
            "  100   0   0 100  50 100  50 100  50 100 100   0 100 100  50  50 100  50\n",
            "   50 100 100 100   0   0 100 100 100 100 100 100   0   0 100 100 100   0\n",
            "    0   0   0 100 100   0   0   0   0 100 100 100 100   0   0   0   0   0\n",
            "    0 100 100 100 100 100 100 100 100 100 100 100 100 100 100 100 100 100\n",
            "  100 100 100 100   0   0   0 100 100 100 100 100   0   0   0 100 100 100\n",
            "  100 100 100 100   0 100   0   0 100 100 100   0   0   0   0 100   0 100\n",
            "  100 100 100 100 100 100  50 100 100   0 100   0   0   0 100 100 100 100\n",
            "  100   0 100 100 100 100   0   0 100   0   0 100 100 100   0   0 100 100\n",
            "  100 100 100 100   0 100 100 100 100   0   0   0 100 100   0 100 100 100\n",
            "  100 100 100 100 100 100   0   0 100 100 100 100   0 100 100 100 100 100\n",
            "  100 100  50 100   0  50 100   0 100 100  50  50  50 100 100 100  50 100\n",
            "  100 100 100 100 100 100   0   0 100 100 100 100 100 100 100 100 100 100\n",
            "  100  50 100 100 100 100 100 100 100  50 100 100  50 100 100 100 100 100\n",
            "  100  50 100   0 100 100 100  50 100 100   0 100 100 100   0 100 100 100\n",
            "  100 100 100 100 100 100 100 100   0   0 100 100 100 100 100 100   0   0\n",
            "  100 100   0   0 100 100 100 100 100 100   0   0 100 100 100 100 100   0\n",
            "    0   0   0   0 100 100 100   0 100   0 100 100 100 100 100 100 100 100\n",
            "  100 100 100 100 100 100 100 100 100 100   0 100   0 100 100 100 100 100\n",
            "  100 100 100 100 100 100   0   0 100 100   0 100 100]]\n"
          ]
        }
      ],
      "source": [
        "x = np.array([df['Designation']])\n",
        "y = np.array([df['Remote_Working_Ratio']])\n",
        "\n",
        "print(x)\n",
        "print(y)"
      ]
    },
    {
      "cell_type": "markdown",
      "metadata": {
        "id": "-jGmmm9vHVgM"
      },
      "source": [
        "## Ambil 2 Kolom Data (Designation, Remote_Working_Ratio)"
      ]
    },
    {
      "cell_type": "code",
      "execution_count": null,
      "metadata": {
        "id": "BJhdtpEcHVgO",
        "colab": {
          "base_uri": "https://localhost:8080/",
          "height": 206
        },
        "outputId": "60df57cd-d858-4737-ad82-83994619f7d3"
      },
      "outputs": [
        {
          "output_type": "execute_result",
          "data": {
            "text/plain": [
              "                  Designation  Remote_Working_Ratio\n",
              "0              Data Scientist                     0\n",
              "1  Machine Learning Scientist                     0\n",
              "2           Big Data Engineer                    50\n",
              "3        Product Data Analyst                     0\n",
              "4   Machine Learning Engineer                    50"
            ],
            "text/html": [
              "\n",
              "  <div id=\"df-2bef4600-3381-466c-bc24-cb43c1ae3aa4\">\n",
              "    <div class=\"colab-df-container\">\n",
              "      <div>\n",
              "<style scoped>\n",
              "    .dataframe tbody tr th:only-of-type {\n",
              "        vertical-align: middle;\n",
              "    }\n",
              "\n",
              "    .dataframe tbody tr th {\n",
              "        vertical-align: top;\n",
              "    }\n",
              "\n",
              "    .dataframe thead th {\n",
              "        text-align: right;\n",
              "    }\n",
              "</style>\n",
              "<table border=\"1\" class=\"dataframe\">\n",
              "  <thead>\n",
              "    <tr style=\"text-align: right;\">\n",
              "      <th></th>\n",
              "      <th>Designation</th>\n",
              "      <th>Remote_Working_Ratio</th>\n",
              "    </tr>\n",
              "  </thead>\n",
              "  <tbody>\n",
              "    <tr>\n",
              "      <th>0</th>\n",
              "      <td>Data Scientist</td>\n",
              "      <td>0</td>\n",
              "    </tr>\n",
              "    <tr>\n",
              "      <th>1</th>\n",
              "      <td>Machine Learning Scientist</td>\n",
              "      <td>0</td>\n",
              "    </tr>\n",
              "    <tr>\n",
              "      <th>2</th>\n",
              "      <td>Big Data Engineer</td>\n",
              "      <td>50</td>\n",
              "    </tr>\n",
              "    <tr>\n",
              "      <th>3</th>\n",
              "      <td>Product Data Analyst</td>\n",
              "      <td>0</td>\n",
              "    </tr>\n",
              "    <tr>\n",
              "      <th>4</th>\n",
              "      <td>Machine Learning Engineer</td>\n",
              "      <td>50</td>\n",
              "    </tr>\n",
              "  </tbody>\n",
              "</table>\n",
              "</div>\n",
              "      <button class=\"colab-df-convert\" onclick=\"convertToInteractive('df-2bef4600-3381-466c-bc24-cb43c1ae3aa4')\"\n",
              "              title=\"Convert this dataframe to an interactive table.\"\n",
              "              style=\"display:none;\">\n",
              "        \n",
              "  <svg xmlns=\"http://www.w3.org/2000/svg\" height=\"24px\"viewBox=\"0 0 24 24\"\n",
              "       width=\"24px\">\n",
              "    <path d=\"M0 0h24v24H0V0z\" fill=\"none\"/>\n",
              "    <path d=\"M18.56 5.44l.94 2.06.94-2.06 2.06-.94-2.06-.94-.94-2.06-.94 2.06-2.06.94zm-11 1L8.5 8.5l.94-2.06 2.06-.94-2.06-.94L8.5 2.5l-.94 2.06-2.06.94zm10 10l.94 2.06.94-2.06 2.06-.94-2.06-.94-.94-2.06-.94 2.06-2.06.94z\"/><path d=\"M17.41 7.96l-1.37-1.37c-.4-.4-.92-.59-1.43-.59-.52 0-1.04.2-1.43.59L10.3 9.45l-7.72 7.72c-.78.78-.78 2.05 0 2.83L4 21.41c.39.39.9.59 1.41.59.51 0 1.02-.2 1.41-.59l7.78-7.78 2.81-2.81c.8-.78.8-2.07 0-2.86zM5.41 20L4 18.59l7.72-7.72 1.47 1.35L5.41 20z\"/>\n",
              "  </svg>\n",
              "      </button>\n",
              "      \n",
              "  <style>\n",
              "    .colab-df-container {\n",
              "      display:flex;\n",
              "      flex-wrap:wrap;\n",
              "      gap: 12px;\n",
              "    }\n",
              "\n",
              "    .colab-df-convert {\n",
              "      background-color: #E8F0FE;\n",
              "      border: none;\n",
              "      border-radius: 50%;\n",
              "      cursor: pointer;\n",
              "      display: none;\n",
              "      fill: #1967D2;\n",
              "      height: 32px;\n",
              "      padding: 0 0 0 0;\n",
              "      width: 32px;\n",
              "    }\n",
              "\n",
              "    .colab-df-convert:hover {\n",
              "      background-color: #E2EBFA;\n",
              "      box-shadow: 0px 1px 2px rgba(60, 64, 67, 0.3), 0px 1px 3px 1px rgba(60, 64, 67, 0.15);\n",
              "      fill: #174EA6;\n",
              "    }\n",
              "\n",
              "    [theme=dark] .colab-df-convert {\n",
              "      background-color: #3B4455;\n",
              "      fill: #D2E3FC;\n",
              "    }\n",
              "\n",
              "    [theme=dark] .colab-df-convert:hover {\n",
              "      background-color: #434B5C;\n",
              "      box-shadow: 0px 1px 3px 1px rgba(0, 0, 0, 0.15);\n",
              "      filter: drop-shadow(0px 1px 2px rgba(0, 0, 0, 0.3));\n",
              "      fill: #FFFFFF;\n",
              "    }\n",
              "  </style>\n",
              "\n",
              "      <script>\n",
              "        const buttonEl =\n",
              "          document.querySelector('#df-2bef4600-3381-466c-bc24-cb43c1ae3aa4 button.colab-df-convert');\n",
              "        buttonEl.style.display =\n",
              "          google.colab.kernel.accessAllowed ? 'block' : 'none';\n",
              "\n",
              "        async function convertToInteractive(key) {\n",
              "          const element = document.querySelector('#df-2bef4600-3381-466c-bc24-cb43c1ae3aa4');\n",
              "          const dataTable =\n",
              "            await google.colab.kernel.invokeFunction('convertToInteractive',\n",
              "                                                     [key], {});\n",
              "          if (!dataTable) return;\n",
              "\n",
              "          const docLinkHtml = 'Like what you see? Visit the ' +\n",
              "            '<a target=\"_blank\" href=https://colab.research.google.com/notebooks/data_table.ipynb>data table notebook</a>'\n",
              "            + ' to learn more about interactive tables.';\n",
              "          element.innerHTML = '';\n",
              "          dataTable['output_type'] = 'display_data';\n",
              "          await google.colab.output.renderOutput(dataTable, element);\n",
              "          const docLink = document.createElement('div');\n",
              "          docLink.innerHTML = docLinkHtml;\n",
              "          element.appendChild(docLink);\n",
              "        }\n",
              "      </script>\n",
              "    </div>\n",
              "  </div>\n",
              "  "
            ]
          },
          "metadata": {},
          "execution_count": 14
        }
      ],
      "source": [
        "df_2 = df[['Designation', 'Remote_Working_Ratio']]\n",
        "df_2.head()"
      ]
    },
    {
      "cell_type": "markdown",
      "metadata": {
        "id": "QjDu1pFRHVgT"
      },
      "source": [
        "## Data unik dalam dataframe"
      ]
    },
    {
      "cell_type": "code",
      "execution_count": null,
      "metadata": {
        "id": "e38EwI8lHVga",
        "colab": {
          "base_uri": "https://localhost:8080/"
        },
        "outputId": "3b3949e2-7d42-4ece-c631-2b8c4fecc58f"
      },
      "outputs": [
        {
          "output_type": "execute_result",
          "data": {
            "text/plain": [
              "array(['Data Scientist', 'Machine Learning Scientist',\n",
              "       'Big Data Engineer', 'Product Data Analyst',\n",
              "       'Machine Learning Engineer', 'Data Analyst', 'Lead Data Scientist',\n",
              "       'Business Data Analyst', 'Lead Data Engineer', 'Lead Data Analyst',\n",
              "       'Data Engineer', 'Data Science Consultant', 'BI Data Analyst',\n",
              "       'Director of Data Science', 'Research Scientist',\n",
              "       'Machine Learning Manager', 'Data Engineering Manager',\n",
              "       'Machine Learning Infrastructure Engineer', 'ML Engineer',\n",
              "       'AI Scientist', 'Computer Vision Engineer',\n",
              "       'Principal Data Scientist', 'Data Science Manager', 'Head of Data',\n",
              "       '3D Computer Vision Researcher', 'Data Analytics Engineer',\n",
              "       'Applied Data Scientist', 'Marketing Data Analyst',\n",
              "       'Cloud Data Engineer', 'Financial Data Analyst',\n",
              "       'Computer Vision Software Engineer',\n",
              "       'Director of Data Engineering', 'Data Science Engineer',\n",
              "       'Principal Data Engineer', 'Machine Learning Developer',\n",
              "       'Applied Machine Learning Scientist', 'Data Analytics Manager',\n",
              "       'Head of Data Science', 'Data Specialist', 'Data Architect',\n",
              "       'Finance Data Analyst', 'Principal Data Analyst',\n",
              "       'Big Data Architect', 'Staff Data Scientist', 'Analytics Engineer',\n",
              "       'ETL Developer', 'Head of Machine Learning', 'NLP Engineer',\n",
              "       'Lead Machine Learning Engineer', 'Data Analytics Lead'],\n",
              "      dtype=object)"
            ]
          },
          "metadata": {},
          "execution_count": 15
        }
      ],
      "source": [
        "df['Designation'].unique()"
      ]
    },
    {
      "cell_type": "code",
      "execution_count": null,
      "metadata": {
        "id": "cGfr09z-HVgj",
        "colab": {
          "base_uri": "https://localhost:8080/"
        },
        "outputId": "1b950c3d-192f-4a2b-adf4-a74414f23fef"
      },
      "outputs": [
        {
          "output_type": "execute_result",
          "data": {
            "text/plain": [
              "array([  0,  50, 100])"
            ]
          },
          "metadata": {},
          "execution_count": 16
        }
      ],
      "source": [
        "df['Remote_Working_Ratio'].unique()"
      ]
    },
    {
      "cell_type": "markdown",
      "metadata": {
        "id": "9B0UQMvNHVgl"
      },
      "source": [
        "## Konversi menjadi list"
      ]
    },
    {
      "cell_type": "code",
      "execution_count": null,
      "metadata": {
        "id": "1gIePVvAHVgn",
        "colab": {
          "base_uri": "https://localhost:8080/"
        },
        "outputId": "eddaabde-1276-4d97-a301-a99c4d2697fa"
      },
      "outputs": [
        {
          "output_type": "stream",
          "name": "stdout",
          "text": [
            "Data Scientist, Machine Learning Scientist, Big Data Engineer, Product Data Analyst, Machine Learning Engineer, Data Analyst, Lead Data Scientist, Data Scientist, Business Data Analyst, Lead Data Engineer, Data Scientist, Data Scientist, Data Scientist, Lead Data Analyst, Data Analyst, Data Analyst, Data Engineer, Big Data Engineer, Data Science Consultant, Lead Data Engineer, Machine Learning Engineer, Product Data Analyst, Data Engineer, BI Data Analyst, Lead Data Scientist, Director of Data Science, Research Scientist, Data Engineer, Business Data Analyst, Machine Learning Manager, Data Engineering Manager, Big Data Engineer, Data Scientist, Research Scientist, Data Analyst, Data Engineer, Data Science Consultant, Machine Learning Engineer, Data Analyst, Machine Learning Engineer, Data Scientist, Data Engineering Manager, Machine Learning Infrastructure Engineer, Data Engineer, Data Engineer, ML Engineer, Data Scientist, Data Engineer, Data Scientist, Data Engineer, Data Analyst, Data Analyst, AI Scientist, Data Engineer, Computer Vision Engineer, Principal Data Scientist, Data Scientist, Data Scientist, Data Scientist, Data Scientist, Data Engineer, Data Engineer, Data Scientist, Data Scientist, Machine Learning Engineer, Data Scientist, Data Scientist, Data Science Manager, Data Scientist, Data Scientist, Data Scientist, Data Scientist, Research Scientist, BI Data Analyst, Head of Data, Data Scientist, BI Data Analyst, 3D Computer Vision Researcher, ML Engineer, Data Analyst, Data Analytics Engineer, Data Engineer, Applied Data Scientist, Machine Learning Engineer, Director of Data Science, Data Engineer, Data Analyst, Data Analytics Engineer, Lead Data Analyst, Data Analyst, Marketing Data Analyst, Data Science Consultant, Lead Data Analyst, Lead Data Engineer, Data Scientist, Cloud Data Engineer, AI Scientist, Financial Data Analyst, Computer Vision Software Engineer, Computer Vision Software Engineer, Data Analyst, Data Engineer, BI Data Analyst, Data Analyst, Data Scientist, Data Analyst, Research Scientist, Data Engineer, Data Engineer, Data Engineer, Machine Learning Engineer, Director of Data Engineering, Lead Data Engineer, AI Scientist, Data Engineer, Machine Learning Scientist, Data Scientist, Data Science Engineer, Data Analyst, Data Engineer, Big Data Engineer, Principal Data Engineer, Data Analyst, Applied Data Scientist, Data Analyst, Principal Data Scientist, Machine Learning Scientist, Data Scientist, Machine Learning Engineer, Lead Data Scientist, Machine Learning Developer, Data Scientist, Applied Machine Learning Scientist, Computer Vision Engineer, Data Scientist, Data Analyst, ML Engineer, ML Engineer, Principal Data Scientist, Data Scientist, Data Analyst, Data Science Manager, Data Engineering Manager, Data Scientist, Data Engineer, Machine Learning Engineer, Research Scientist, Data Engineer, Data Engineering Manager, Cloud Data Engineer, Director of Data Science, Data Scientist, Data Scientist, Data Scientist, Data Science Manager, Data Science Engineer, Data Scientist, Applied Machine Learning Scientist, Data Analytics Manager, Machine Learning Engineer, Head of Data, Head of Data Science, Data Engineer, Data Science Consultant, Director of Data Science, Data Specialist, Data Engineer, Director of Data Science, BI Data Analyst, Data Architect, Data Architect, Data Engineer, Data Analyst, Principal Data Scientist, Research Scientist, Data Engineering Manager, Data Scientist, Data Scientist, Machine Learning Engineer, Data Scientist, Big Data Engineer, Data Scientist, Data Engineer, Finance Data Analyst, Machine Learning Scientist, Data Engineer, Data Analytics Engineer, Data Science Consultant, Data Engineer, Machine Learning Engineer, Data Science Manager, Machine Learning Engineer, Big Data Engineer, Data Science Manager, Research Scientist, Data Scientist, BI Data Analyst, Machine Learning Engineer, Data Science Manager, Data Science Consultant, Data Scientist, Machine Learning Infrastructure Engineer, Data Scientist, Research Scientist, Data Scientist, Data Scientist, Machine Learning Engineer, Data Engineer, Data Engineer, Data Analytics Manager, Machine Learning Engineer, Research Scientist, Data Engineer, Big Data Engineer, Machine Learning Engineer, Principal Data Engineer, Computer Vision Engineer, Data Scientist, Machine Learning Engineer, Data Analytics Manager, Machine Learning Engineer, Data Scientist, Data Scientist, Data Scientist, Machine Learning Scientist, Principal Data Scientist, Data Scientist, Data Scientist, Data Scientist, Data Analyst, Big Data Engineer, ML Engineer, Director of Data Engineering, Data Analyst, Data Architect, Head of Data Science, Research Scientist, Data Scientist, Data Scientist, Data Engineer, Data Scientist, Data Analyst, Data Engineer, Data Scientist, AI Scientist, Data Engineer, Data Scientist, Data Engineer, Data Engineer, Principal Data Analyst, Data Scientist, Data Scientist, Principal Data Engineer, Data Scientist, Data Analyst, Big Data Architect, Data Engineer, Principal Data Scientist, Machine Learning Engineer, Director of Data Science, Data Scientist, Data Analyst, Data Scientist, Machine Learning Engineer, Data Scientist, Lead Data Engineer, Data Engineer, Data Engineer, Data Engineer, Data Engineer, Data Engineer, Computer Vision Engineer, Data Science Consultant, Machine Learning Engineer, Data Scientist, Data Scientist, Data Scientist, AI Scientist, Data Scientist, Business Data Analyst, Data Engineer, Research Scientist, Data Engineer, Staff Data Scientist, Research Scientist, Data Science Manager, Head of Data, Data Scientist, Machine Learning Engineer, Data Engineer, Data Analyst, Data Analyst, Data Scientist, Data Scientist, Data Engineer, Data Engineer, Data Analyst, Data Analyst, Data Scientist, Data Scientist, Data Scientist, Data Scientist, Data Scientist, Data Scientist, Data Engineer, Data Analyst, Data Analyst, Data Analyst, Data Analyst, Data Engineer, Data Engineer, Data Scientist, Data Scientist, Data Engineer, Data Engineer, Data Scientist, Data Engineer, Data Scientist, Data Analyst, Data Engineer, Data Engineer, Data Engineer, Data Engineer, Data Scientist, Data Scientist, Data Analyst, Data Analyst, Data Analyst, Data Analyst, Data Analyst, Data Analyst, Data Analyst, Data Analyst, Data Analyst, Data Engineer, Data Engineer, Data Analyst, Data Engineer, Data Analyst, Data Analyst, Data Engineer, Data Engineer, Head of Data Science, Head of Data Science, Analytics Engineer, Data Engineer, Data Engineer, Data Scientist, Data Engineer, Data Analyst, Data Science Manager, Data Science Manager, Data Scientist, Data Scientist, Data Engineer, Data Engineer, Data Scientist, Data Scientist, Data Architect, Data Architect, Data Analyst, Data Analyst, Data Analyst, Data Analyst, Data Engineer, Data Scientist, Data Engineer, Data Analyst, Analytics Engineer, Data Scientist, Data Scientist, Machine Learning Engineer, Machine Learning Engineer, ETL Developer, ETL Developer, Lead Data Engineer, Data Analyst, Data Engineer, Data Architect, Data Architect, Data Engineer, Data Engineer, Data Analyst, Data Analyst, Head of Machine Learning, Data Engineer, Machine Learning Engineer, Data Analyst, Data Engineer, Machine Learning Engineer, Machine Learning Engineer, AI Scientist, Data Analyst, Data Analyst, Data Analytics Manager, Data Analytics Manager, Machine Learning Engineer, Data Engineer, Data Scientist, Data Scientist, Data Engineer, Data Engineer, Data Analyst, Data Analyst, Data Engineer, Data Engineer, Data Analyst, Data Engineer, Data Analyst, Data Scientist, Data Scientist, Data Scientist, Data Engineer, Data Engineer, Data Engineer, Data Engineer, Data Scientist, Data Science Engineer, Data Engineer, Machine Learning Scientist, Machine Learning Scientist, Data Science Manager, Data Science Manager, Data Scientist, Data Scientist, Data Engineer, Data Engineer, Data Engineer, Data Scientist, Data Analyst, Data Analyst, Data Analyst, Data Engineer, Data Engineer, Data Engineer, Data Engineer, Data Engineer, Data Engineer, Machine Learning Engineer, Machine Learning Engineer, Data Analyst, Data Analyst, Data Engineer, Data Engineer, Data Scientist, Data Engineer, Data Engineer, Data Engineer, Data Engineer, ML Engineer, Data Engineer, Machine Learning Developer, Director of Data Science, Machine Learning Engineer, Computer Vision Engineer, NLP Engineer, Data Engineer, Lead Machine Learning Engineer, Business Data Analyst, Data Scientist, Machine Learning Infrastructure Engineer, Financial Data Analyst, Data Engineer, Data Scientist, Principal Data Scientist, Data Engineer, Research Scientist, Data Scientist, Data Engineer, Data Scientist, Data Analyst, Data Analyst, Data Scientist, Data Scientist, Data Scientist, Data Scientist, Data Scientist, Machine Learning Engineer, Data Scientist, Data Scientist, Machine Learning Engineer, Machine Learning Engineer, Data Engineer, Data Engineer, Data Engineer, Machine Learning Engineer, Data Scientist, Data Scientist, Data Scientist, Applied Machine Learning Scientist, Head of Data, Principal Data Analyst, Data Scientist, Machine Learning Developer, Data Scientist, Machine Learning Scientist, Data Engineer, Data Scientist, Research Scientist, Data Scientist, Machine Learning Engineer, Head of Data, Data Scientist, Machine Learning Engineer, Data Engineer, Data Scientist, Applied Machine Learning Scientist, Research Scientist, Research Scientist, Applied Data Scientist, Computer Vision Software Engineer, Business Data Analyst, Data Engineer, Machine Learning Engineer, Data Analytics Engineer, Data Scientist, Data Science Manager, Data Engineer, Data Scientist, Applied Data Scientist, Data Scientist, Computer Vision Engineer, Data Analyst, Data Analytics Lead, Data Scientist, Applied Data Scientist, Data Scientist, Data Analyst, Data Analyst, Data Analyst, Data Analyst, Data Analyst, Machine Learning Engineer, Machine Learning Engineer, Data Architect, Data Architect, Data Analyst, Data Engineer, Data Scientist, Data Scientist, Data Analyst, Data Analyst, Data Engineer, Data Engineer, Data Engineer, Data Engineer, Data Engineer, Data Engineer, Data Analyst, Data Engineer, Data Scientist, Data Scientist, Data Scientist, Data Scientist, Data Engineer, Data Engineer, Data Engineer, Data Engineer, Data Scientist, Data Scientist, Analytics Engineer, Analytics Engineer, Data Engineer, Data Engineer, Data Analyst, Data Engineer, Data Analyst, Data Analyst, Data Analyst, Data Scientist, Data Scientist, Data Scientist, Data Analyst, Data Analyst, Data Scientist, Data Scientist, Data Scientist, Data Analyst, Data Engineer, Data Engineer, Data Analyst, Data Analyst, Data Engineer, Data Engineer, Data Analyst, Data Analyst, Data Analyst, Data Scientist, Data Analyst, Data Analyst, Data Architect, Data Architect, Data Scientist, Data Scientist, Data Analytics Manager, Data Analytics Manager, Data Scientist, Data Analyst, Data Scientist, Data Scientist, Data Analyst, Data Analyst, Data Engineer, Data Engineer, Data Analyst, Data Analyst, AI Scientist, "
          ]
        }
      ],
      "source": [
        "role = df['Designation'].tolist()\n",
        "for i in role:\n",
        "  print(i, end=', ')"
      ]
    },
    {
      "cell_type": "code",
      "execution_count": null,
      "metadata": {
        "id": "qwVBJ2p0HVgp",
        "colab": {
          "base_uri": "https://localhost:8080/"
        },
        "outputId": "ad2a6a14-5740-4ebc-d4ba-bad8e41fc103"
      },
      "outputs": [
        {
          "output_type": "stream",
          "name": "stdout",
          "text": [
            "0, 0, 50, 0, 50, 100, 100, 50, 100, 50, 0, 0, 0, 100, 100, 50, 100, 100, 50, 100, 0, 100, 50, 0, 0, 100, 50, 0, 100, 50, 100, 100, 100, 0, 50, 50, 100, 50, 100, 100, 100, 50, 0, 100, 50, 100, 100, 100, 100, 50, 0, 100, 50, 100, 100, 100, 100, 100, 50, 100, 100, 100, 50, 100, 100, 50, 0, 100, 100, 0, 50, 50, 50, 100, 100, 50, 100, 50, 100, 100, 100, 100, 50, 100, 100, 100, 50, 100, 100, 100, 100, 100, 100, 0, 50, 50, 100, 100, 100, 100, 0, 100, 50, 0, 0, 50, 100, 100, 100, 100, 50, 100, 100, 100, 100, 100, 100, 100, 100, 100, 50, 100, 100, 0, 50, 100, 50, 0, 100, 50, 50, 50, 100, 100, 0, 100, 50, 50, 0, 100, 100, 0, 0, 100, 100, 50, 50, 100, 100, 100, 0, 100, 100, 100, 100, 50, 100, 50, 100, 100, 50, 0, 50, 50, 50, 100, 100, 0, 50, 100, 100, 100, 100, 100, 50, 100, 0, 100, 50, 100, 0, 50, 0, 50, 50, 100, 100, 100, 50, 50, 100, 50, 0, 100, 50, 50, 100, 100, 50, 100, 50, 100, 100, 100, 100, 0, 100, 0, 0, 0, 50, 50, 50, 0, 50, 100, 50, 50, 100, 100, 100, 50, 0, 50, 100, 100, 100, 50, 0, 100, 100, 100, 100, 100, 100, 0, 100, 100, 0, 50, 100, 100, 100, 100, 100, 50, 50, 0, 50, 100, 50, 100, 100, 100, 100, 50, 100, 100, 50, 0, 50, 50, 100, 0, 100, 50, 0, 0, 100, 50, 100, 0, 0, 100, 50, 100, 50, 100, 50, 100, 100, 0, 100, 100, 50, 50, 100, 50, 50, 100, 100, 100, 0, 0, 100, 100, 100, 100, 100, 100, 0, 0, 100, 100, 100, 0, 0, 0, 0, 100, 100, 0, 0, 0, 0, 100, 100, 100, 100, 0, 0, 0, 0, 0, 0, 100, 100, 100, 100, 100, 100, 100, 100, 100, 100, 100, 100, 100, 100, 100, 100, 100, 100, 100, 100, 100, 0, 0, 0, 100, 100, 100, 100, 100, 0, 0, 0, 100, 100, 100, 100, 100, 100, 100, 0, 100, 0, 0, 100, 100, 100, 0, 0, 0, 0, 100, 0, 100, 100, 100, 100, 100, 100, 100, 50, 100, 100, 0, 100, 0, 0, 0, 100, 100, 100, 100, 100, 0, 100, 100, 100, 100, 0, 0, 100, 0, 0, 100, 100, 100, 0, 0, 100, 100, 100, 100, 100, 100, 0, 100, 100, 100, 100, 0, 0, 0, 100, 100, 0, 100, 100, 100, 100, 100, 100, 100, 100, 100, 0, 0, 100, 100, 100, 100, 0, 100, 100, 100, 100, 100, 100, 100, 50, 100, 0, 50, 100, 0, 100, 100, 50, 50, 50, 100, 100, 100, 50, 100, 100, 100, 100, 100, 100, 100, 0, 0, 100, 100, 100, 100, 100, 100, 100, 100, 100, 100, 100, 50, 100, 100, 100, 100, 100, 100, 100, 50, 100, 100, 50, 100, 100, 100, 100, 100, 100, 50, 100, 0, 100, 100, 100, 50, 100, 100, 0, 100, 100, 100, 0, 100, 100, 100, 100, 100, 100, 100, 100, 100, 100, 100, 0, 0, 100, 100, 100, 100, 100, 100, 0, 0, 100, 100, 0, 0, 100, 100, 100, 100, 100, 100, 0, 0, 100, 100, 100, 100, 100, 0, 0, 0, 0, 0, 100, 100, 100, 0, 100, 0, 100, 100, 100, 100, 100, 100, 100, 100, 100, 100, 100, 100, 100, 100, 100, 100, 100, 100, 0, 100, 0, 100, 100, 100, 100, 100, 100, 100, 100, 100, 100, 100, 0, 0, 100, 100, 0, 100, 100, "
          ]
        }
      ],
      "source": [
        "rwr = df['Remote_Working_Ratio'].tolist()\n",
        "for i in rwr:\n",
        "  print(i, end=', ')"
      ]
    },
    {
      "cell_type": "markdown",
      "metadata": {
        "id": "iCU4Y_WHHVgr"
      },
      "source": [
        "## Sorting"
      ]
    },
    {
      "cell_type": "code",
      "execution_count": null,
      "metadata": {
        "id": "n94IRTOmHVgt",
        "colab": {
          "base_uri": "https://localhost:8080/",
          "height": 206
        },
        "outputId": "b76857a0-90ec-488b-f70b-389a5e967c55"
      },
      "outputs": [
        {
          "output_type": "execute_result",
          "data": {
            "text/plain": [
              "                  Designation  Remote_Working_Ratio\n",
              "0              Data Scientist                     0\n",
              "1  Machine Learning Scientist                     0\n",
              "2           Big Data Engineer                    50\n",
              "3        Product Data Analyst                     0\n",
              "4   Machine Learning Engineer                    50"
            ],
            "text/html": [
              "\n",
              "  <div id=\"df-16933684-6999-47bb-850d-dd28fd9322a8\">\n",
              "    <div class=\"colab-df-container\">\n",
              "      <div>\n",
              "<style scoped>\n",
              "    .dataframe tbody tr th:only-of-type {\n",
              "        vertical-align: middle;\n",
              "    }\n",
              "\n",
              "    .dataframe tbody tr th {\n",
              "        vertical-align: top;\n",
              "    }\n",
              "\n",
              "    .dataframe thead th {\n",
              "        text-align: right;\n",
              "    }\n",
              "</style>\n",
              "<table border=\"1\" class=\"dataframe\">\n",
              "  <thead>\n",
              "    <tr style=\"text-align: right;\">\n",
              "      <th></th>\n",
              "      <th>Designation</th>\n",
              "      <th>Remote_Working_Ratio</th>\n",
              "    </tr>\n",
              "  </thead>\n",
              "  <tbody>\n",
              "    <tr>\n",
              "      <th>0</th>\n",
              "      <td>Data Scientist</td>\n",
              "      <td>0</td>\n",
              "    </tr>\n",
              "    <tr>\n",
              "      <th>1</th>\n",
              "      <td>Machine Learning Scientist</td>\n",
              "      <td>0</td>\n",
              "    </tr>\n",
              "    <tr>\n",
              "      <th>2</th>\n",
              "      <td>Big Data Engineer</td>\n",
              "      <td>50</td>\n",
              "    </tr>\n",
              "    <tr>\n",
              "      <th>3</th>\n",
              "      <td>Product Data Analyst</td>\n",
              "      <td>0</td>\n",
              "    </tr>\n",
              "    <tr>\n",
              "      <th>4</th>\n",
              "      <td>Machine Learning Engineer</td>\n",
              "      <td>50</td>\n",
              "    </tr>\n",
              "  </tbody>\n",
              "</table>\n",
              "</div>\n",
              "      <button class=\"colab-df-convert\" onclick=\"convertToInteractive('df-16933684-6999-47bb-850d-dd28fd9322a8')\"\n",
              "              title=\"Convert this dataframe to an interactive table.\"\n",
              "              style=\"display:none;\">\n",
              "        \n",
              "  <svg xmlns=\"http://www.w3.org/2000/svg\" height=\"24px\"viewBox=\"0 0 24 24\"\n",
              "       width=\"24px\">\n",
              "    <path d=\"M0 0h24v24H0V0z\" fill=\"none\"/>\n",
              "    <path d=\"M18.56 5.44l.94 2.06.94-2.06 2.06-.94-2.06-.94-.94-2.06-.94 2.06-2.06.94zm-11 1L8.5 8.5l.94-2.06 2.06-.94-2.06-.94L8.5 2.5l-.94 2.06-2.06.94zm10 10l.94 2.06.94-2.06 2.06-.94-2.06-.94-.94-2.06-.94 2.06-2.06.94z\"/><path d=\"M17.41 7.96l-1.37-1.37c-.4-.4-.92-.59-1.43-.59-.52 0-1.04.2-1.43.59L10.3 9.45l-7.72 7.72c-.78.78-.78 2.05 0 2.83L4 21.41c.39.39.9.59 1.41.59.51 0 1.02-.2 1.41-.59l7.78-7.78 2.81-2.81c.8-.78.8-2.07 0-2.86zM5.41 20L4 18.59l7.72-7.72 1.47 1.35L5.41 20z\"/>\n",
              "  </svg>\n",
              "      </button>\n",
              "      \n",
              "  <style>\n",
              "    .colab-df-container {\n",
              "      display:flex;\n",
              "      flex-wrap:wrap;\n",
              "      gap: 12px;\n",
              "    }\n",
              "\n",
              "    .colab-df-convert {\n",
              "      background-color: #E8F0FE;\n",
              "      border: none;\n",
              "      border-radius: 50%;\n",
              "      cursor: pointer;\n",
              "      display: none;\n",
              "      fill: #1967D2;\n",
              "      height: 32px;\n",
              "      padding: 0 0 0 0;\n",
              "      width: 32px;\n",
              "    }\n",
              "\n",
              "    .colab-df-convert:hover {\n",
              "      background-color: #E2EBFA;\n",
              "      box-shadow: 0px 1px 2px rgba(60, 64, 67, 0.3), 0px 1px 3px 1px rgba(60, 64, 67, 0.15);\n",
              "      fill: #174EA6;\n",
              "    }\n",
              "\n",
              "    [theme=dark] .colab-df-convert {\n",
              "      background-color: #3B4455;\n",
              "      fill: #D2E3FC;\n",
              "    }\n",
              "\n",
              "    [theme=dark] .colab-df-convert:hover {\n",
              "      background-color: #434B5C;\n",
              "      box-shadow: 0px 1px 3px 1px rgba(0, 0, 0, 0.15);\n",
              "      filter: drop-shadow(0px 1px 2px rgba(0, 0, 0, 0.3));\n",
              "      fill: #FFFFFF;\n",
              "    }\n",
              "  </style>\n",
              "\n",
              "      <script>\n",
              "        const buttonEl =\n",
              "          document.querySelector('#df-16933684-6999-47bb-850d-dd28fd9322a8 button.colab-df-convert');\n",
              "        buttonEl.style.display =\n",
              "          google.colab.kernel.accessAllowed ? 'block' : 'none';\n",
              "\n",
              "        async function convertToInteractive(key) {\n",
              "          const element = document.querySelector('#df-16933684-6999-47bb-850d-dd28fd9322a8');\n",
              "          const dataTable =\n",
              "            await google.colab.kernel.invokeFunction('convertToInteractive',\n",
              "                                                     [key], {});\n",
              "          if (!dataTable) return;\n",
              "\n",
              "          const docLinkHtml = 'Like what you see? Visit the ' +\n",
              "            '<a target=\"_blank\" href=https://colab.research.google.com/notebooks/data_table.ipynb>data table notebook</a>'\n",
              "            + ' to learn more about interactive tables.';\n",
              "          element.innerHTML = '';\n",
              "          dataTable['output_type'] = 'display_data';\n",
              "          await google.colab.output.renderOutput(dataTable, element);\n",
              "          const docLink = document.createElement('div');\n",
              "          docLink.innerHTML = docLinkHtml;\n",
              "          element.appendChild(docLink);\n",
              "        }\n",
              "      </script>\n",
              "    </div>\n",
              "  </div>\n",
              "  "
            ]
          },
          "metadata": {},
          "execution_count": 19
        }
      ],
      "source": [
        "df_2.sort_values(by = ['Designation', 'Remote_Working_Ratio'])\n",
        "df_2.head()"
      ]
    },
    {
      "cell_type": "markdown",
      "source": [
        "**Bubble Sort**"
      ],
      "metadata": {
        "id": "LbaRCualEhfo"
      }
    },
    {
      "cell_type": "code",
      "source": [
        "def bubbleSort(arr):\n",
        "    n = len(arr)\n",
        "\n",
        "    for i in range(n):\n",
        "\n",
        "        for j in range(0, n-i-1):\n",
        "            if arr[j] > arr[j+1]:\n",
        "                arr[j], arr[j+1] = arr[j+1], arr[j]\n",
        "# Driver code to test above\n",
        "if __name__ == \"__main__\":\n",
        "    arr = x\n",
        "\n",
        "    bubbleSort(arr)\n",
        "\n",
        "    print(\"Bubble Sorted of IQ :\")\n",
        "    for i in range(len(arr)):\n",
        "        print(\"%s\" % arr[i], end=\" \")"
      ],
      "metadata": {
        "id": "zxaA06DwEeS_",
        "colab": {
          "base_uri": "https://localhost:8080/"
        },
        "outputId": "623efc5a-efc9-4806-ac82-fa4a3f3f0aae"
      },
      "execution_count": null,
      "outputs": [
        {
          "output_type": "stream",
          "name": "stdout",
          "text": [
            "Bubble Sorted of IQ :\n",
            "['Data Scientist' 'Machine Learning Scientist' 'Big Data Engineer'\n",
            " 'Product Data Analyst' 'Machine Learning Engineer' 'Data Analyst'\n",
            " 'Lead Data Scientist' 'Data Scientist' 'Business Data Analyst'\n",
            " 'Lead Data Engineer' 'Data Scientist' 'Data Scientist' 'Data Scientist'\n",
            " 'Lead Data Analyst' 'Data Analyst' 'Data Analyst' 'Data Engineer'\n",
            " 'Big Data Engineer' 'Data Science Consultant' 'Lead Data Engineer'\n",
            " 'Machine Learning Engineer' 'Product Data Analyst' 'Data Engineer'\n",
            " 'BI Data Analyst' 'Lead Data Scientist' 'Director of Data Science'\n",
            " 'Research Scientist' 'Data Engineer' 'Business Data Analyst'\n",
            " 'Machine Learning Manager' 'Data Engineering Manager' 'Big Data Engineer'\n",
            " 'Data Scientist' 'Research Scientist' 'Data Analyst' 'Data Engineer'\n",
            " 'Data Science Consultant' 'Machine Learning Engineer' 'Data Analyst'\n",
            " 'Machine Learning Engineer' 'Data Scientist' 'Data Engineering Manager'\n",
            " 'Machine Learning Infrastructure Engineer' 'Data Engineer'\n",
            " 'Data Engineer' 'ML Engineer' 'Data Scientist' 'Data Engineer'\n",
            " 'Data Scientist' 'Data Engineer' 'Data Analyst' 'Data Analyst'\n",
            " 'AI Scientist' 'Data Engineer' 'Computer Vision Engineer'\n",
            " 'Principal Data Scientist' 'Data Scientist' 'Data Scientist'\n",
            " 'Data Scientist' 'Data Scientist' 'Data Engineer' 'Data Engineer'\n",
            " 'Data Scientist' 'Data Scientist' 'Machine Learning Engineer'\n",
            " 'Data Scientist' 'Data Scientist' 'Data Science Manager' 'Data Scientist'\n",
            " 'Data Scientist' 'Data Scientist' 'Data Scientist' 'Research Scientist'\n",
            " 'BI Data Analyst' 'Head of Data' 'Data Scientist' 'BI Data Analyst'\n",
            " '3D Computer Vision Researcher' 'ML Engineer' 'Data Analyst'\n",
            " 'Data Analytics Engineer' 'Data Engineer' 'Applied Data Scientist'\n",
            " 'Machine Learning Engineer' 'Director of Data Science' 'Data Engineer'\n",
            " 'Data Analyst' 'Data Analytics Engineer' 'Lead Data Analyst'\n",
            " 'Data Analyst' 'Marketing Data Analyst' 'Data Science Consultant'\n",
            " 'Lead Data Analyst' 'Lead Data Engineer' 'Data Scientist'\n",
            " 'Cloud Data Engineer' 'AI Scientist' 'Financial Data Analyst'\n",
            " 'Computer Vision Software Engineer' 'Computer Vision Software Engineer'\n",
            " 'Data Analyst' 'Data Engineer' 'BI Data Analyst' 'Data Analyst'\n",
            " 'Data Scientist' 'Data Analyst' 'Research Scientist' 'Data Engineer'\n",
            " 'Data Engineer' 'Data Engineer' 'Machine Learning Engineer'\n",
            " 'Director of Data Engineering' 'Lead Data Engineer' 'AI Scientist'\n",
            " 'Data Engineer' 'Machine Learning Scientist' 'Data Scientist'\n",
            " 'Data Science Engineer' 'Data Analyst' 'Data Engineer'\n",
            " 'Big Data Engineer' 'Principal Data Engineer' 'Data Analyst'\n",
            " 'Applied Data Scientist' 'Data Analyst' 'Principal Data Scientist'\n",
            " 'Machine Learning Scientist' 'Data Scientist' 'Machine Learning Engineer'\n",
            " 'Lead Data Scientist' 'Machine Learning Developer' 'Data Scientist'\n",
            " 'Applied Machine Learning Scientist' 'Computer Vision Engineer'\n",
            " 'Data Scientist' 'Data Analyst' 'ML Engineer' 'ML Engineer'\n",
            " 'Principal Data Scientist' 'Data Scientist' 'Data Analyst'\n",
            " 'Data Science Manager' 'Data Engineering Manager' 'Data Scientist'\n",
            " 'Data Engineer' 'Machine Learning Engineer' 'Research Scientist'\n",
            " 'Data Engineer' 'Data Engineering Manager' 'Cloud Data Engineer'\n",
            " 'Director of Data Science' 'Data Scientist' 'Data Scientist'\n",
            " 'Data Scientist' 'Data Science Manager' 'Data Science Engineer'\n",
            " 'Data Scientist' 'Applied Machine Learning Scientist'\n",
            " 'Data Analytics Manager' 'Machine Learning Engineer' 'Head of Data'\n",
            " 'Head of Data Science' 'Data Engineer' 'Data Science Consultant'\n",
            " 'Director of Data Science' 'Data Specialist' 'Data Engineer'\n",
            " 'Director of Data Science' 'BI Data Analyst' 'Data Architect'\n",
            " 'Data Architect' 'Data Engineer' 'Data Analyst'\n",
            " 'Principal Data Scientist' 'Research Scientist'\n",
            " 'Data Engineering Manager' 'Data Scientist' 'Data Scientist'\n",
            " 'Machine Learning Engineer' 'Data Scientist' 'Big Data Engineer'\n",
            " 'Data Scientist' 'Data Engineer' 'Finance Data Analyst'\n",
            " 'Machine Learning Scientist' 'Data Engineer' 'Data Analytics Engineer'\n",
            " 'Data Science Consultant' 'Data Engineer' 'Machine Learning Engineer'\n",
            " 'Data Science Manager' 'Machine Learning Engineer' 'Big Data Engineer'\n",
            " 'Data Science Manager' 'Research Scientist' 'Data Scientist'\n",
            " 'BI Data Analyst' 'Machine Learning Engineer' 'Data Science Manager'\n",
            " 'Data Science Consultant' 'Data Scientist'\n",
            " 'Machine Learning Infrastructure Engineer' 'Data Scientist'\n",
            " 'Research Scientist' 'Data Scientist' 'Data Scientist'\n",
            " 'Machine Learning Engineer' 'Data Engineer' 'Data Engineer'\n",
            " 'Data Analytics Manager' 'Machine Learning Engineer' 'Research Scientist'\n",
            " 'Data Engineer' 'Big Data Engineer' 'Machine Learning Engineer'\n",
            " 'Principal Data Engineer' 'Computer Vision Engineer' 'Data Scientist'\n",
            " 'Machine Learning Engineer' 'Data Analytics Manager'\n",
            " 'Machine Learning Engineer' 'Data Scientist' 'Data Scientist'\n",
            " 'Data Scientist' 'Machine Learning Scientist' 'Principal Data Scientist'\n",
            " 'Data Scientist' 'Data Scientist' 'Data Scientist' 'Data Analyst'\n",
            " 'Big Data Engineer' 'ML Engineer' 'Director of Data Engineering'\n",
            " 'Data Analyst' 'Data Architect' 'Head of Data Science'\n",
            " 'Research Scientist' 'Data Scientist' 'Data Scientist' 'Data Engineer'\n",
            " 'Data Scientist' 'Data Analyst' 'Data Engineer' 'Data Scientist'\n",
            " 'AI Scientist' 'Data Engineer' 'Data Scientist' 'Data Engineer'\n",
            " 'Data Engineer' 'Principal Data Analyst' 'Data Scientist'\n",
            " 'Data Scientist' 'Principal Data Engineer' 'Data Scientist'\n",
            " 'Data Analyst' 'Big Data Architect' 'Data Engineer'\n",
            " 'Principal Data Scientist' 'Machine Learning Engineer'\n",
            " 'Director of Data Science' 'Data Scientist' 'Data Analyst'\n",
            " 'Data Scientist' 'Machine Learning Engineer' 'Data Scientist'\n",
            " 'Lead Data Engineer' 'Data Engineer' 'Data Engineer' 'Data Engineer'\n",
            " 'Data Engineer' 'Data Engineer' 'Computer Vision Engineer'\n",
            " 'Data Science Consultant' 'Machine Learning Engineer' 'Data Scientist'\n",
            " 'Data Scientist' 'Data Scientist' 'AI Scientist' 'Data Scientist'\n",
            " 'Business Data Analyst' 'Data Engineer' 'Research Scientist'\n",
            " 'Data Engineer' 'Staff Data Scientist' 'Research Scientist'\n",
            " 'Data Science Manager' 'Head of Data' 'Data Scientist'\n",
            " 'Machine Learning Engineer' 'Data Engineer' 'Data Analyst' 'Data Analyst'\n",
            " 'Data Scientist' 'Data Scientist' 'Data Engineer' 'Data Engineer'\n",
            " 'Data Analyst' 'Data Analyst' 'Data Scientist' 'Data Scientist'\n",
            " 'Data Scientist' 'Data Scientist' 'Data Scientist' 'Data Scientist'\n",
            " 'Data Engineer' 'Data Analyst' 'Data Analyst' 'Data Analyst'\n",
            " 'Data Analyst' 'Data Engineer' 'Data Engineer' 'Data Scientist'\n",
            " 'Data Scientist' 'Data Engineer' 'Data Engineer' 'Data Scientist'\n",
            " 'Data Engineer' 'Data Scientist' 'Data Analyst' 'Data Engineer'\n",
            " 'Data Engineer' 'Data Engineer' 'Data Engineer' 'Data Scientist'\n",
            " 'Data Scientist' 'Data Analyst' 'Data Analyst' 'Data Analyst'\n",
            " 'Data Analyst' 'Data Analyst' 'Data Analyst' 'Data Analyst'\n",
            " 'Data Analyst' 'Data Analyst' 'Data Engineer' 'Data Engineer'\n",
            " 'Data Analyst' 'Data Engineer' 'Data Analyst' 'Data Analyst'\n",
            " 'Data Engineer' 'Data Engineer' 'Head of Data Science'\n",
            " 'Head of Data Science' 'Analytics Engineer' 'Data Engineer'\n",
            " 'Data Engineer' 'Data Scientist' 'Data Engineer' 'Data Analyst'\n",
            " 'Data Science Manager' 'Data Science Manager' 'Data Scientist'\n",
            " 'Data Scientist' 'Data Engineer' 'Data Engineer' 'Data Scientist'\n",
            " 'Data Scientist' 'Data Architect' 'Data Architect' 'Data Analyst'\n",
            " 'Data Analyst' 'Data Analyst' 'Data Analyst' 'Data Engineer'\n",
            " 'Data Scientist' 'Data Engineer' 'Data Analyst' 'Analytics Engineer'\n",
            " 'Data Scientist' 'Data Scientist' 'Machine Learning Engineer'\n",
            " 'Machine Learning Engineer' 'ETL Developer' 'ETL Developer'\n",
            " 'Lead Data Engineer' 'Data Analyst' 'Data Engineer' 'Data Architect'\n",
            " 'Data Architect' 'Data Engineer' 'Data Engineer' 'Data Analyst'\n",
            " 'Data Analyst' 'Head of Machine Learning' 'Data Engineer'\n",
            " 'Machine Learning Engineer' 'Data Analyst' 'Data Engineer'\n",
            " 'Machine Learning Engineer' 'Machine Learning Engineer' 'AI Scientist'\n",
            " 'Data Analyst' 'Data Analyst' 'Data Analytics Manager'\n",
            " 'Data Analytics Manager' 'Machine Learning Engineer' 'Data Engineer'\n",
            " 'Data Scientist' 'Data Scientist' 'Data Engineer' 'Data Engineer'\n",
            " 'Data Analyst' 'Data Analyst' 'Data Engineer' 'Data Engineer'\n",
            " 'Data Analyst' 'Data Engineer' 'Data Analyst' 'Data Scientist'\n",
            " 'Data Scientist' 'Data Scientist' 'Data Engineer' 'Data Engineer'\n",
            " 'Data Engineer' 'Data Engineer' 'Data Scientist' 'Data Science Engineer'\n",
            " 'Data Engineer' 'Machine Learning Scientist' 'Machine Learning Scientist'\n",
            " 'Data Science Manager' 'Data Science Manager' 'Data Scientist'\n",
            " 'Data Scientist' 'Data Engineer' 'Data Engineer' 'Data Engineer'\n",
            " 'Data Scientist' 'Data Analyst' 'Data Analyst' 'Data Analyst'\n",
            " 'Data Engineer' 'Data Engineer' 'Data Engineer' 'Data Engineer'\n",
            " 'Data Engineer' 'Data Engineer' 'Machine Learning Engineer'\n",
            " 'Machine Learning Engineer' 'Data Analyst' 'Data Analyst' 'Data Engineer'\n",
            " 'Data Engineer' 'Data Scientist' 'Data Engineer' 'Data Engineer'\n",
            " 'Data Engineer' 'Data Engineer' 'ML Engineer' 'Data Engineer'\n",
            " 'Machine Learning Developer' 'Director of Data Science'\n",
            " 'Machine Learning Engineer' 'Computer Vision Engineer' 'NLP Engineer'\n",
            " 'Data Engineer' 'Lead Machine Learning Engineer' 'Business Data Analyst'\n",
            " 'Data Scientist' 'Machine Learning Infrastructure Engineer'\n",
            " 'Financial Data Analyst' 'Data Engineer' 'Data Scientist'\n",
            " 'Principal Data Scientist' 'Data Engineer' 'Research Scientist'\n",
            " 'Data Scientist' 'Data Engineer' 'Data Scientist' 'Data Analyst'\n",
            " 'Data Analyst' 'Data Scientist' 'Data Scientist' 'Data Scientist'\n",
            " 'Data Scientist' 'Data Scientist' 'Machine Learning Engineer'\n",
            " 'Data Scientist' 'Data Scientist' 'Machine Learning Engineer'\n",
            " 'Machine Learning Engineer' 'Data Engineer' 'Data Engineer'\n",
            " 'Data Engineer' 'Machine Learning Engineer' 'Data Scientist'\n",
            " 'Data Scientist' 'Data Scientist' 'Applied Machine Learning Scientist'\n",
            " 'Head of Data' 'Principal Data Analyst' 'Data Scientist'\n",
            " 'Machine Learning Developer' 'Data Scientist'\n",
            " 'Machine Learning Scientist' 'Data Engineer' 'Data Scientist'\n",
            " 'Research Scientist' 'Data Scientist' 'Machine Learning Engineer'\n",
            " 'Head of Data' 'Data Scientist' 'Machine Learning Engineer'\n",
            " 'Data Engineer' 'Data Scientist' 'Applied Machine Learning Scientist'\n",
            " 'Research Scientist' 'Research Scientist' 'Applied Data Scientist'\n",
            " 'Computer Vision Software Engineer' 'Business Data Analyst'\n",
            " 'Data Engineer' 'Machine Learning Engineer' 'Data Analytics Engineer'\n",
            " 'Data Scientist' 'Data Science Manager' 'Data Engineer' 'Data Scientist'\n",
            " 'Applied Data Scientist' 'Data Scientist' 'Computer Vision Engineer'\n",
            " 'Data Analyst' 'Data Analytics Lead' 'Data Scientist'\n",
            " 'Applied Data Scientist' 'Data Scientist' 'Data Analyst' 'Data Analyst'\n",
            " 'Data Analyst' 'Data Analyst' 'Data Analyst' 'Machine Learning Engineer'\n",
            " 'Machine Learning Engineer' 'Data Architect' 'Data Architect'\n",
            " 'Data Analyst' 'Data Engineer' 'Data Scientist' 'Data Scientist'\n",
            " 'Data Analyst' 'Data Analyst' 'Data Engineer' 'Data Engineer'\n",
            " 'Data Engineer' 'Data Engineer' 'Data Engineer' 'Data Engineer'\n",
            " 'Data Analyst' 'Data Engineer' 'Data Scientist' 'Data Scientist'\n",
            " 'Data Scientist' 'Data Scientist' 'Data Engineer' 'Data Engineer'\n",
            " 'Data Engineer' 'Data Engineer' 'Data Scientist' 'Data Scientist'\n",
            " 'Analytics Engineer' 'Analytics Engineer' 'Data Engineer' 'Data Engineer'\n",
            " 'Data Analyst' 'Data Engineer' 'Data Analyst' 'Data Analyst'\n",
            " 'Data Analyst' 'Data Scientist' 'Data Scientist' 'Data Scientist'\n",
            " 'Data Analyst' 'Data Analyst' 'Data Scientist' 'Data Scientist'\n",
            " 'Data Scientist' 'Data Analyst' 'Data Engineer' 'Data Engineer'\n",
            " 'Data Analyst' 'Data Analyst' 'Data Engineer' 'Data Engineer'\n",
            " 'Data Analyst' 'Data Analyst' 'Data Analyst' 'Data Scientist'\n",
            " 'Data Analyst' 'Data Analyst' 'Data Architect' 'Data Architect'\n",
            " 'Data Scientist' 'Data Scientist' 'Data Analytics Manager'\n",
            " 'Data Analytics Manager' 'Data Scientist' 'Data Analyst' 'Data Scientist'\n",
            " 'Data Scientist' 'Data Analyst' 'Data Analyst' 'Data Engineer'\n",
            " 'Data Engineer' 'Data Analyst' 'Data Analyst' 'AI Scientist'] "
          ]
        }
      ]
    },
    {
      "cell_type": "markdown",
      "metadata": {
        "id": "c4u85TFGHVgz"
      },
      "source": [
        "## Searching"
      ]
    },
    {
      "cell_type": "code",
      "execution_count": null,
      "metadata": {
        "id": "4sGH-M3_HVg5",
        "colab": {
          "base_uri": "https://localhost:8080/"
        },
        "outputId": "2686d892-9939-4003-d735-e98e8d3c7599"
      },
      "outputs": [
        {
          "output_type": "stream",
          "name": "stdout",
          "text": [
            "0                  Data Scientist\n",
            "1      Machine Learning Scientist\n",
            "2               Big Data Engineer\n",
            "3            Product Data Analyst\n",
            "4       Machine Learning Engineer\n",
            "                  ...            \n",
            "602                           NaN\n",
            "603                           NaN\n",
            "604                  Data Analyst\n",
            "605                           NaN\n",
            "606                           NaN\n",
            "Name: Designation, Length: 607, dtype: object\n"
          ]
        }
      ],
      "source": [
        "print(df['Designation'].where(df['Remote_Working_Ratio'] <= 50))"
      ]
    },
    {
      "cell_type": "markdown",
      "source": [
        "**Linear Search**"
      ],
      "metadata": {
        "id": "pOo9O3vqHVwo"
      }
    },
    {
      "cell_type": "code",
      "source": [
        "def linear_search(alist, key):\n",
        "\n",
        "  for i in range(len(alist)):\n",
        "    if alist[i] == key:\n",
        "      return i\n",
        "  return -1\n",
        "\n",
        "alist = rwr\n",
        "alist = [int(rwr) for rwr in alist]\n",
        "key = int(input('The number to search for: '))\n",
        "index = linear_search(alist, key)\n",
        "print(index)"
      ],
      "metadata": {
        "id": "j1AlNcrCHZD0",
        "colab": {
          "base_uri": "https://localhost:8080/"
        },
        "outputId": "0136fe4d-047e-43fc-8bdb-0ab91125016e"
      },
      "execution_count": null,
      "outputs": [
        {
          "output_type": "stream",
          "name": "stdout",
          "text": [
            "The number to search for: 50\n",
            "2\n"
          ]
        }
      ]
    },
    {
      "cell_type": "markdown",
      "metadata": {
        "id": "ULGG7JhNHVhA"
      },
      "source": [
        "## Jumlah Kategori yang ada"
      ]
    },
    {
      "cell_type": "code",
      "execution_count": null,
      "metadata": {
        "id": "sAgWDoOzHVhC",
        "colab": {
          "base_uri": "https://localhost:8080/"
        },
        "outputId": "6b59f304-a5d1-4c82-936c-8ba623c0f8c1"
      },
      "outputs": [
        {
          "output_type": "execute_result",
          "data": {
            "text/plain": [
              "Data Scientist                              143\n",
              "Data Engineer                               132\n",
              "Data Analyst                                 97\n",
              "Machine Learning Engineer                    41\n",
              "Research Scientist                           16\n",
              "Data Science Manager                         12\n",
              "Data Architect                               11\n",
              "Big Data Engineer                             8\n",
              "Machine Learning Scientist                    8\n",
              "Principal Data Scientist                      7\n",
              "AI Scientist                                  7\n",
              "Data Science Consultant                       7\n",
              "Director of Data Science                      7\n",
              "Data Analytics Manager                        7\n",
              "ML Engineer                                   6\n",
              "Computer Vision Engineer                      6\n",
              "BI Data Analyst                               6\n",
              "Lead Data Engineer                            6\n",
              "Data Engineering Manager                      5\n",
              "Business Data Analyst                         5\n",
              "Head of Data                                  5\n",
              "Applied Data Scientist                        5\n",
              "Applied Machine Learning Scientist            4\n",
              "Head of Data Science                          4\n",
              "Analytics Engineer                            4\n",
              "Data Analytics Engineer                       4\n",
              "Machine Learning Developer                    3\n",
              "Machine Learning Infrastructure Engineer      3\n",
              "Lead Data Scientist                           3\n",
              "Computer Vision Software Engineer             3\n",
              "Lead Data Analyst                             3\n",
              "Data Science Engineer                         3\n",
              "Principal Data Engineer                       3\n",
              "Principal Data Analyst                        2\n",
              "ETL Developer                                 2\n",
              "Product Data Analyst                          2\n",
              "Director of Data Engineering                  2\n",
              "Financial Data Analyst                        2\n",
              "Cloud Data Engineer                           2\n",
              "Lead Machine Learning Engineer                1\n",
              "NLP Engineer                                  1\n",
              "Head of Machine Learning                      1\n",
              "3D Computer Vision Researcher                 1\n",
              "Data Specialist                               1\n",
              "Staff Data Scientist                          1\n",
              "Big Data Architect                            1\n",
              "Finance Data Analyst                          1\n",
              "Marketing Data Analyst                        1\n",
              "Machine Learning Manager                      1\n",
              "Data Analytics Lead                           1\n",
              "Name: Designation, dtype: int64"
            ]
          },
          "metadata": {},
          "execution_count": 23
        }
      ],
      "source": [
        "role = df['Designation'].value_counts()\n",
        "role"
      ]
    },
    {
      "cell_type": "code",
      "execution_count": null,
      "metadata": {
        "id": "m9mCeI2sHVhG",
        "colab": {
          "base_uri": "https://localhost:8080/"
        },
        "outputId": "81aa2fc5-a5cb-4ccf-9506-cab07ac75c17"
      },
      "outputs": [
        {
          "output_type": "execute_result",
          "data": {
            "text/plain": [
              "Index(['Data Scientist', 'Data Engineer', 'Data Analyst',\n",
              "       'Machine Learning Engineer', 'Research Scientist',\n",
              "       'Data Science Manager', 'Data Architect', 'Big Data Engineer',\n",
              "       'Machine Learning Scientist', 'Principal Data Scientist',\n",
              "       'AI Scientist', 'Data Science Consultant', 'Director of Data Science',\n",
              "       'Data Analytics Manager', 'ML Engineer', 'Computer Vision Engineer',\n",
              "       'BI Data Analyst', 'Lead Data Engineer', 'Data Engineering Manager',\n",
              "       'Business Data Analyst', 'Head of Data', 'Applied Data Scientist',\n",
              "       'Applied Machine Learning Scientist', 'Head of Data Science',\n",
              "       'Analytics Engineer', 'Data Analytics Engineer',\n",
              "       'Machine Learning Developer',\n",
              "       'Machine Learning Infrastructure Engineer', 'Lead Data Scientist',\n",
              "       'Computer Vision Software Engineer', 'Lead Data Analyst',\n",
              "       'Data Science Engineer', 'Principal Data Engineer',\n",
              "       'Principal Data Analyst', 'ETL Developer', 'Product Data Analyst',\n",
              "       'Director of Data Engineering', 'Financial Data Analyst',\n",
              "       'Cloud Data Engineer', 'Lead Machine Learning Engineer', 'NLP Engineer',\n",
              "       'Head of Machine Learning', '3D Computer Vision Researcher',\n",
              "       'Data Specialist', 'Staff Data Scientist', 'Big Data Architect',\n",
              "       'Finance Data Analyst', 'Marketing Data Analyst',\n",
              "       'Machine Learning Manager', 'Data Analytics Lead'],\n",
              "      dtype='object')"
            ]
          },
          "metadata": {},
          "execution_count": 24
        }
      ],
      "source": [
        "role.index"
      ]
    },
    {
      "cell_type": "code",
      "execution_count": null,
      "metadata": {
        "id": "vrZxI2JVHVhH",
        "colab": {
          "base_uri": "https://localhost:8080/"
        },
        "outputId": "b47c78bc-99c9-4cf6-ee39-ed602b59819b"
      },
      "outputs": [
        {
          "output_type": "execute_result",
          "data": {
            "text/plain": [
              "100    381\n",
              "0      127\n",
              "50      99\n",
              "Name: Remote_Working_Ratio, dtype: int64"
            ]
          },
          "metadata": {},
          "execution_count": 25
        }
      ],
      "source": [
        "remote = df_2['Remote_Working_Ratio'].value_counts()\n",
        "remote"
      ]
    },
    {
      "cell_type": "markdown",
      "metadata": {
        "id": "b-6UHcCPHVhK"
      },
      "source": [
        "## Plot dengan Matplotlib"
      ]
    },
    {
      "cell_type": "code",
      "execution_count": null,
      "metadata": {
        "id": "GDBxFp2JHVhM",
        "colab": {
          "base_uri": "https://localhost:8080/",
          "height": 506
        },
        "outputId": "9b8951b0-f3fd-499d-852e-ed9f8b98021d"
      },
      "outputs": [
        {
          "output_type": "display_data",
          "data": {
            "text/plain": [
              "<Figure size 864x720 with 1 Axes>"
            ],
            "image/png": "[encoded data removed]"
          },
          "metadata": {
            "needs_background": "light"
          }
        }
      ],
      "source": [
        "fig, ax = plt.subplots(figsize = (12,10))\n",
        "\n",
        "ax.barh(role.index, role)\n",
        "ax.set_title('Jumlah pekerja dengan rolenya', size = 20)\n",
        "ax.set_xlabel('Jumlah Pekerja', size = 20, color = 'blue')\n",
        "ax.set_ylabel('Role', size = 15, color = 'purple')\n",
        "\n",
        "\n",
        "plt.show()"
      ]
    },
    {
      "cell_type": "markdown",
      "metadata": {
        "id": "urRrcODcHVhX"
      },
      "source": [
        "## Kesimpulan\n",
        " * Jumlah pekerjaan yang paling banyak menurut index yang pertama diduduki oleh data scientist, yang kedua data engineeer dan yang ketiga data analyst, Sedangkan tiga pekerjaan terbawah diduduki oleh data analytics lead,machine learning manager, dan marketing data analyst.\n",
        " * Pada pengolahan data sangat berguna untuk mendapatkan sebuah insight(pengetahuan) dari data tersebut dan dalam penggunaan algoritma searching dan sorting sangat berguna dalam pemilahan sebuah data dan pencarian data.\n",
        "\n"
      ]
    },
    {
      "cell_type": "code",
      "source": [],
      "metadata": {
        "id": "OctG3l_nvXPd"
      },
      "execution_count": null,
      "outputs": []
    }
  ],
  "metadata": {
    "kernelspec": {
      "display_name": "Python 3.9.15 ('base')",
      "language": "python",
      "name": "python3"
    },
    "language_info": {
      "codemirror_mode": {
        "name": "ipython",
        "version": 3
      },
      "file_extension": ".py",
      "mimetype": "text/x-python",
      "name": "python",
      "nbconvert_exporter": "python",
      "pygments_lexer": "ipython3",
      "version": "3.9.15"
    },
    "orig_nbformat": 4,
    "vscode": {
      "interpreter": {
        "hash": "c42d99d755d00efaf066b964ceed011a4027ae5af520c8ef8190b9acee3a6094"
      }
    },
    "colab": {
      "provenance": []
    }
  },
  "nbformat": 4,
  "nbformat_minor": 0
}